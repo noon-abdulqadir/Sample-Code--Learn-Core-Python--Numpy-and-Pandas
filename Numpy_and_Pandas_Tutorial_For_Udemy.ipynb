{
  "cells": [
    {
      "cell_type": "markdown",
      "metadata": {
        "id": "zse4grLxIwhU",
        "colab_type": "text"
      },
      "source": [
        "# Numpy"
      ]
    },
    {
      "cell_type": "markdown",
      "metadata": {
        "id": "SkQ-X7TDORz8",
        "colab_type": "text"
      },
      "source": [
        "A numpy array is a grid of values, all of the same type, and is indexed by a tuple of nonnegative integers. The number of dimensions is the rank of the array; the shape of an array is a tuple of integers giving the size of the array along each dimension.\n",
        "\n",
        "We can initialize numpy arrays from nested Python lists, and access elements using square brackets:"
      ]
    },
    {
      "cell_type": "code",
      "metadata": {
        "id": "u5t4u4A_NMwM",
        "colab_type": "code",
        "outputId": "32936d50-0172-4333-8e05-b99d13ced532",
        "colab": {
          "base_uri": "https://localhost:8080/",
          "height": 170
        }
      },
      "source": [
        "import numpy as np\n",
        "\n",
        "a = np.array([100, 200, 300])   #Rank 1 array\n",
        "print(a)\n",
        "print(type(a))            # Prints \"<class 'numpy.ndarray'>\"\n",
        "print(a.shape)            # Prints \"(3,)\"\n",
        "print(a.ndim)             # Prints 1\n",
        "\n",
        "print(a[0], a[1], a[2])   # Prints \"100 200 300\"\n",
        "\n",
        "a[0] = 500                  # Change an element of the array\n",
        "print(a)                  # Prints \"[500, 200, 300]\"\n",
        "\n",
        "b = np.array(\n",
        "              [\n",
        "                  [1,2,3],\n",
        "                  [4,5,6]\n",
        "              ]\n",
        "            )  \n",
        "# Create a rank 2 array\n",
        "print(b.shape)   # Prints \"(2, 3)\"\n",
        "print (b.ndim)   # Prints 2\n",
        "print(b[0, 0], b[0, 1], b[1, 0])   # Prints \"1 2 4\""
      ],
      "execution_count": 1,
      "outputs": [
        {
          "output_type": "stream",
          "name": "stdout",
          "text": "[100 200 300]\n<class 'numpy.ndarray'>\n(3,)\n1\n100 200 300\n[500 200 300]\n(2, 3)\n2\n1 2 4\n"
        }
      ]
    },
    {
      "cell_type": "code",
      "metadata": {
        "id": "4qqQFbjDIyWv",
        "colab_type": "code",
        "outputId": "1010c569-3f2d-46b5-cdb5-4d2e103c0eca",
        "colab": {
          "base_uri": "https://localhost:8080/",
          "height": 68
        }
      },
      "source": [
        "# 3 dimensional array\n",
        "\n",
        "import numpy as np\n",
        "b = np.array( [\n",
        "                  [\n",
        "                      [1,2,3],\n",
        "                      [4,5,6]\n",
        "                  ],\n",
        "\n",
        "                  [\n",
        "                      [1,2,3],\n",
        "                      [4,5,6]\n",
        "                  ]\n",
        "              ]\n",
        "            )  \n",
        "\n",
        "print(b.shape)   # Prints \"(2, 2, 3)\"\n",
        "print (b.ndim)\n",
        "\n",
        "print (b[0,1,2])"
      ],
      "execution_count": 2,
      "outputs": [
        {
          "output_type": "stream",
          "name": "stdout",
          "text": "(2, 2, 3)\n3\n6\n"
        }
      ]
    },
    {
      "cell_type": "markdown",
      "metadata": {
        "id": "NqpX_wTnPZuE",
        "colab_type": "text"
      },
      "source": [
        "https://www.quora.com/In-Python-NumPy-what-is-a-dimension-and-axis\n"
      ]
    },
    {
      "cell_type": "code",
      "metadata": {
        "id": "gOuV7xy1bUUp",
        "colab_type": "code",
        "outputId": "2c25d4b3-c405-4291-cdd9-f8f851b020cc",
        "colab": {
          "base_uri": "https://localhost:8080/",
          "height": 323
        }
      },
      "source": [
        "# Numpy Matrix Operations\n",
        "\n",
        "import numpy as np\n",
        "\n",
        "\n",
        "#   1 2      5 6      6  8\n",
        "#         +        =    \n",
        "#   3 4      7 8      10 12 \n",
        "\n",
        "x = np.array([[1,2],[3,4]], dtype=np.float64)\n",
        "y = np.array([[5,6],[7,8]], dtype=np.float64)\n",
        "\n",
        "# Elementwise sum; both produce the array\n",
        "# [[ 6.0  8.0]\n",
        "#  [10.0 12.0]]\n",
        "print(x + y)\n",
        "print(np.add(x, y))\n",
        "\n",
        "\n",
        "#   1 2      5 6      -4  -4\n",
        "#         -        =    \n",
        "#   3 4      7 8      -4  -4 \n",
        "\n",
        "\n",
        "# Elementwise difference; both produce the array\n",
        "# [[-4.0 -4.0]\n",
        "#  [-4.0 -4.0]]\n",
        "print(x - y)\n",
        "print(np.subtract(x, y))\n",
        "\n",
        "\n",
        "#   1 2      5 6       5  12\n",
        "#         *        =    \n",
        "#   3 4      7 8      21  32 \n",
        "\n",
        "\n",
        "# Elementwise product; both produce the array\n",
        "# [[ 5.0 12.0]\n",
        "#  [21.0 32.0]]\n",
        "print(x * y)\n",
        "print(np.multiply(x, y))\n",
        "\n",
        "# Elementwise division; both produce the array\n",
        "# [[ 0.2         0.33333333]\n",
        "#  [ 0.42857143  0.5       ]]\n",
        "\n",
        "#   1 2      5 6       0.2  0.3333\n",
        "#         /        =    \n",
        "#   3 4      7 8       0.428  0.5 \n",
        "\n",
        "print(x / y)\n",
        "print(np.divide(x, y))\n",
        "\n",
        "# Elementwise square root; produces the array\n",
        "# [[ 1.          1.41421356]\n",
        "#  [ 1.73205081  2.        ]]\n",
        "print(np.sqrt(x))"
      ],
      "execution_count": 3,
      "outputs": [
        {
          "output_type": "stream",
          "name": "stdout",
          "text": "[[ 6.  8.]\n [10. 12.]]\n[[ 6.  8.]\n [10. 12.]]\n[[-4. -4.]\n [-4. -4.]]\n[[-4. -4.]\n [-4. -4.]]\n[[ 5. 12.]\n [21. 32.]]\n[[ 5. 12.]\n [21. 32.]]\n[[0.2        0.33333333]\n [0.42857143 0.5       ]]\n[[0.2        0.33333333]\n [0.42857143 0.5       ]]\n[[1.         1.41421356]\n [1.73205081 2.        ]]\n"
        }
      ]
    },
    {
      "cell_type": "markdown",
      "metadata": {
        "id": "Bg77wxLnObRW",
        "colab_type": "text"
      },
      "source": [
        "[Google SpreadSheet Link](https://docs.google.com/spreadsheets/d/1yim_nrrNpWK0D_oBeP2aD94Z6mgzDVv8SXDT5AeoZvg/edit?usp=sharing)"
      ]
    },
    {
      "cell_type": "code",
      "metadata": {
        "id": "QQKZ1zEai7Cd",
        "colab_type": "code",
        "outputId": "cefa9121-9b8c-4798-f291-64b93ca7c9f3",
        "colab": {
          "base_uri": "https://localhost:8080/",
          "height": 153
        }
      },
      "source": [
        "import numpy as np\n",
        "\n",
        "x = np.array([[1,2],[3,4]])\n",
        "y = np.array([[5,6],[7,8]])\n",
        "\n",
        "v = np.array([9,10])\n",
        "w = np.array([11, 12])\n",
        "\n",
        "\n",
        "# 9 10  dot product   11 12\n",
        "\n",
        "\n",
        "\n",
        "# Inner product of vectors; both produce 219\n",
        "print(v.dot(w))\n",
        "print(np.dot(v, w))\n",
        "\n",
        "# Matrix / vector product; both produce the rank 1 array [29 67]\n",
        "print(x.dot(v))\n",
        "print(np.dot(x, v))\n",
        "\n",
        "# Matrix / matrix product; both produce the rank 2 array\n",
        "# [[19 22]\n",
        "#  [43 50]]\n",
        "print(x.dot(y))\n",
        "print(np.dot(x, y))"
      ],
      "execution_count": 0,
      "outputs": [
        {
          "output_type": "stream",
          "text": [
            "219\n",
            "219\n",
            "[29 67]\n",
            "[29 67]\n",
            "[[19 22]\n",
            " [43 50]]\n",
            "[[19 22]\n",
            " [43 50]]\n"
          ],
          "name": "stdout"
        }
      ]
    },
    {
      "cell_type": "code",
      "metadata": {
        "id": "sugq6FQQPi5c",
        "colab_type": "code",
        "outputId": "74be54d4-79b3-48c1-9d9e-6cd0aec8e66a",
        "colab": {
          "base_uri": "https://localhost:8080/",
          "height": 255
        }
      },
      "source": [
        "import numpy as np\n",
        "\n",
        "a = np.zeros((2,2))   # Create an array of all zeros\n",
        "print(a,'\\n')              # Prints \"[[ 0.  0.]\n",
        "                      #          [ 0.  0.]]\"\n",
        "\n",
        "b = np.ones((1,2))    # Create an array of all ones\n",
        "print(b,'\\n')              # Prints \"[[ 1.  1.]]\"\n",
        "\n",
        "c = np.full((2,2), 7)  # Create a constant array\n",
        "print(c,'\\n')               # Prints \"[[ 7.  7.]\n",
        "                       #          [ 7.  7.]]\"\n",
        "\n",
        "d = np.eye(2)         # Create a 2x2 identity matrix\n",
        "print(d,'\\n')              # Prints \"[[ 1.  0.]\n",
        "                      #          [ 0.  1.]]\"\n",
        "\n",
        "e = np.random.random((2,2))  # Create an array filled with random values\n",
        "print(e,'\\n')                     # Might print \"[[ 0.91940167  0.08143941]\n",
        "                             #               [ 0.68744134  0.87236687]]\""
      ],
      "execution_count": 4,
      "outputs": [
        {
          "output_type": "stream",
          "name": "stdout",
          "text": "[[0. 0.]\n [0. 0.]] \n\n[[1. 1.]] \n\n[[7 7]\n [7 7]] \n\n[[1. 0.]\n [0. 1.]] \n\n[[0.89400975 0.77081742]\n [0.70886123 0.45394   ]] \n\n"
        }
      ]
    },
    {
      "cell_type": "code",
      "metadata": {
        "id": "sbVoUzUCRvNo",
        "colab_type": "code",
        "outputId": "42a05137-32e4-4c51-8347-d9a6296fdeda",
        "colab": {
          "base_uri": "https://localhost:8080/",
          "height": 289
        }
      },
      "source": [
        "# Similar to Python lists, numpy arrays can be sliced. Since arrays may be multidimensional, \n",
        "# you must specify a slice for each dimension of the array:\n",
        "\n",
        "\n",
        "import numpy as np\n",
        "\n",
        "# Create the following rank 2 array with shape (3, 4)\n",
        "# [[ 1  2  3  4]\n",
        "#  [ 5  6  7  8]\n",
        "#  [ 9 10 11 12]]\n",
        "a = np.array(\n",
        "              [\n",
        "                [1,2,3,4], \n",
        "                [5,6,7,8], \n",
        "                [9,10,11,12]\n",
        "              ]\n",
        "            )\n",
        "\n",
        "# Use slicing to pull out the subarray consisting of the first 2 rows\n",
        "# and columns 1 and 2; b is the following array of shape (2, 2):\n",
        "# [[2 3]\n",
        "#  [6 7]]\n",
        "b = a[:2, 1:3]\n",
        "\n",
        "print (b,'\\n')\n",
        "\n",
        "\n",
        "x = a[:,:1]\n",
        "print(x)\n",
        "\n",
        "# A slice of an array is a view into the same data, so modifying it\n",
        "# will modify the original array.\n",
        "print(a[0, 1])   # Prints \"2\"\n",
        "b[0, 0] = 77     # b[0, 0] is the same piece of data as a[0, 1]\n",
        "print(a[0, 1],'\\n')   # Prints \"77\"\n",
        "\n",
        "print (b,'\\n')\n",
        "\n",
        "print (a,'\\n')"
      ],
      "execution_count": 0,
      "outputs": [
        {
          "output_type": "stream",
          "text": [
            "[[2 3]\n",
            " [6 7]] \n",
            "\n",
            "[[1]\n",
            " [5]\n",
            " [9]]\n",
            "2\n",
            "77 \n",
            "\n",
            "[[77  3]\n",
            " [ 6  7]] \n",
            "\n",
            "[[ 1 77  3  4]\n",
            " [ 5  6  7  8]\n",
            " [ 9 10 11 12]] \n",
            "\n"
          ],
          "name": "stdout"
        }
      ]
    },
    {
      "cell_type": "code",
      "metadata": {
        "id": "Gs-Q3V2siH65",
        "colab_type": "code",
        "outputId": "92226538-38bd-48e1-81f6-b57c304d3bc7",
        "colab": {
          "base_uri": "https://localhost:8080/",
          "height": 119
        }
      },
      "source": [
        "# One can also mix integer indexing with slice indexing. \n",
        "# However, doing so will yield an array of lower rank than the original array\n",
        "\n",
        "\n",
        "import numpy as np\n",
        "\n",
        "# Create the following rank 2 array with shape (3, 4)\n",
        "# [[ 1  2  3  4]\n",
        "#  [ 5  6  7  8]\n",
        "#  [ 9 10 11 12]]\n",
        "a = np.array([[1,2,3,4], [5,6,7,8], [9,10,11,12]])\n",
        "\n",
        "# Two ways of accessing the data in the middle row of the array.\n",
        "# Mixing integer indexing with slices yields an array of lower rank,\n",
        "# while using only slices yields an array of the same rank as the\n",
        "# original array:\n",
        "row_r1 = a[1, :]    # Rank 1 view of the second row of a\n",
        "row_r2 = a[1:2, :]  # Rank 2 view of the second row of a\n",
        "print(row_r1, row_r1.shape)  # Prints \"[5 6 7 8] (4,)\"\n",
        "print(row_r2, row_r2.shape)  # Prints \"[[5 6 7 8]] (1, 4)\"\n",
        "\n",
        "# We can make the same distinction when accessing columns of an array:\n",
        "col_r1 = a[:, 1]\n",
        "col_r2 = a[:, 1:2]\n",
        "print(col_r1, col_r1.shape)  # Prints \"[ 2  6 10] (3,)\"\n",
        "print(col_r2, col_r2.shape)  # Prints \"[[ 2]\n",
        "                             #          [ 6]\n",
        "                             #          [10]] (3, 1)\""
      ],
      "execution_count": 5,
      "outputs": [
        {
          "output_type": "stream",
          "name": "stdout",
          "text": "[5 6 7 8] (4,)\n[[5 6 7 8]] (1, 4)\n[ 2  6 10] (3,)\n[[ 2]\n [ 6]\n [10]] (3, 1)\n"
        }
      ]
    },
    {
      "cell_type": "code",
      "metadata": {
        "id": "TrTUI8XYk9QR",
        "colab_type": "code",
        "outputId": "5a96aca8-4de9-4879-f2c1-1e576a2632db",
        "colab": {
          "base_uri": "https://localhost:8080/",
          "height": 85
        }
      },
      "source": [
        "\n",
        "# Integer array indexing: When you index into numpy arrays using slicing, \n",
        "# the resulting array view will always be a subarray of the original array. \n",
        "# In contrast, integer array indexing allows you to construct arbitrary arrays using the data from another array. \n",
        "# Here is an example:\n",
        "  \n",
        "import numpy as np\n",
        "\n",
        "a = np.array([[1,2], [3, 4], [5, 6]])\n",
        "\n",
        "\n",
        "\n",
        "# When integers are used for indexing. Each element of first dimension is paired with the element of the second dimension. \n",
        "\n",
        "# An example of integer array indexing.\n",
        "# The returned array will have shape (3,) and\n",
        "\n",
        "# This is equivalent to [a[0, 0], a[1, 1], a[2, 0]])) \n",
        "print(a[[0, 1, 2], [0, 1, 0]])  # Prints \"[1 4 5]\"\n",
        "\n",
        "\n",
        "\n",
        "\n",
        "# The above example of integer array indexing is equivalent to this:\n",
        "print(np.array([a[0, 0], a[1, 1], a[2, 0]]))  # Prints \"[1 4 5]\"\n",
        "\n",
        "# When using integer array indexing, you can reuse the same\n",
        "# element from the source array:\n",
        "print(a[[0, 0], [1, 1]])  # Prints \"[2 2]\"\n",
        "\n",
        "# Equivalent to the previous integer array indexing example\n",
        "print(np.array([a[0, 1], a[0, 1]]))  # Prints \"[2 2]\""
      ],
      "execution_count": 0,
      "outputs": [
        {
          "output_type": "stream",
          "text": [
            "[1 4 5]\n",
            "[1 4 5]\n",
            "[2 2]\n",
            "[2 2]\n"
          ],
          "name": "stdout"
        }
      ]
    },
    {
      "cell_type": "code",
      "metadata": {
        "id": "u1GB7r0hf9tI",
        "colab_type": "code",
        "colab": {}
      },
      "source": [
        ""
      ],
      "execution_count": 0,
      "outputs": []
    },
    {
      "cell_type": "code",
      "metadata": {
        "id": "52Fvz_REqmx6",
        "colab_type": "code",
        "outputId": "0b1de570-9d1b-40e5-884f-7998aa466ce8",
        "colab": {
          "base_uri": "https://localhost:8080/",
          "height": 102
        }
      },
      "source": [
        "#Boolean array indexing: Boolean array indexing lets you pick out arbitrary elements of an array.\n",
        "#Frequently this type of indexing is used to select the elements of an array that satisfy some condition. \n",
        "\n",
        "\n",
        "import numpy as np\n",
        "\n",
        "a = np.array([[1,2], [3, 4], [5, 6]])\n",
        "\n",
        "bool_idx = (a > 2)   # Find the elements of a that are bigger than 2;\n",
        "                     # this returns a numpy array of Booleans of the same\n",
        "                     # shape as a, where each slot of bool_idx tells\n",
        "                     # whether that element of a is > 2.\n",
        "\n",
        "print(bool_idx)      # Prints \"[[False False]\n",
        "                     #          [ True  True]\n",
        "                     #          [ True  True]]\"\n",
        "\n",
        "# We use boolean array indexing to construct a rank 1 array\n",
        "# consisting of the elements of a corresponding to the True values\n",
        "# of bool_idx\n",
        "print(a[bool_idx])  # Prints \"[3 4 5 6]\"\n",
        "\n",
        "# We can do all of the above in a single concise statement:\n",
        "print(a[a > 2])     # Prints \"[3 4 5 6]\"\n",
        "\n",
        "\n"
      ],
      "execution_count": 0,
      "outputs": [
        {
          "output_type": "stream",
          "text": [
            "[[False False]\n",
            " [ True  True]\n",
            " [ True  True]]\n",
            "[3 4 5 6]\n",
            "[3 4 5 6]\n"
          ],
          "name": "stdout"
        }
      ]
    },
    {
      "cell_type": "code",
      "metadata": {
        "id": "GGVLDKMchrRJ",
        "colab_type": "code",
        "outputId": "fa3a77d8-edee-419c-9b33-6d40cabc4f89",
        "colab": {
          "base_uri": "https://localhost:8080/",
          "height": 187
        }
      },
      "source": [
        "#One useful trick with integer array indexing is selecting or mutating one element from each row of a matrix:\n",
        "\n",
        "import numpy as np\n",
        "\n",
        "# Create a new array from which we will select elements\n",
        "a = np.array([[1,2,3], [4,5,6], [7,8,9], [10, 11, 12]])\n",
        "\n",
        "print(a)  # prints \"array([[ 1,  2,  3],\n",
        "          #                [ 4,  5,  6],\n",
        "          #                [ 7,  8,  9],\n",
        "          #                [10, 11, 12]])\"\n",
        "\n",
        "      \n",
        "print(a.shape)      \n",
        "# Create an array of indices\n",
        "b = np.array([0, 2, 0, 1])\n",
        "\n",
        "# Select one element from each row of a using the indices in b\n",
        "# (0,1,2,3) ([0, 2, 0, 1])\n",
        "print(a[np.arange(4), b])  # Prints \"[ 1  6  7 11]\"\n",
        "\n",
        "# Mutate one element from each row of a using the indices in b\n",
        "a[np.arange(4), b] += 10\n",
        "\n",
        "print(a)  # prints \"array([[11,  2,  3],\n",
        "          #                [ 4,  5, 16],\n",
        "          #                [17,  8,  9],\n",
        "          #                [10, 21, 12]])"
      ],
      "execution_count": 0,
      "outputs": [
        {
          "output_type": "stream",
          "text": [
            "[[ 1  2  3]\n",
            " [ 4  5  6]\n",
            " [ 7  8  9]\n",
            " [10 11 12]]\n",
            "(4, 3)\n",
            "[ 1  6  7 11]\n",
            "[[11  2  3]\n",
            " [ 4  5 16]\n",
            " [17  8  9]\n",
            " [10 21 12]]\n"
          ],
          "name": "stdout"
        }
      ]
    },
    {
      "cell_type": "code",
      "metadata": {
        "id": "tRv7eTyuplsy",
        "colab_type": "code",
        "outputId": "37f042b7-96e6-41ff-d779-cdabf8abb015",
        "colab": {
          "base_uri": "https://localhost:8080/",
          "height": 68
        }
      },
      "source": [
        "#Numpy provides many useful functions for performing computations on arrays; one of the most useful is sum\n",
        "\n",
        "import numpy as np\n",
        "\n",
        "\n",
        "x = np.array([[1,2],[3,4]])\n",
        "\n",
        "\n",
        "# 1,2\n",
        "# 3,4\n",
        "\n",
        "print(np.sum(x))  # Compute sum of all elements; prints \"10\"\n",
        "print(np.sum(x, axis=0))  # Compute sum of each column; prints \"[4 6]\"\n",
        "print(np.sum(x, axis=1))  # Compute sum of each row; prints \"[3 7]\""
      ],
      "execution_count": 0,
      "outputs": [
        {
          "output_type": "stream",
          "text": [
            "10\n",
            "[4 6]\n",
            "[3 7]\n"
          ],
          "name": "stdout"
        }
      ]
    },
    {
      "cell_type": "code",
      "metadata": {
        "id": "Eb8Vu9UstO21",
        "colab_type": "code",
        "outputId": "4cbbdc8d-a604-41f0-8938-0bde97c4e1d3",
        "colab": {
          "base_uri": "https://localhost:8080/",
          "height": 442
        }
      },
      "source": [
        "# Python Program illustrating\n",
        "# numpy.reshape() method\n",
        " \n",
        "import numpy as np\n",
        " \n",
        "array = np.arange(8)\n",
        "print(\"Original array : \\n\", array)\n",
        " \n",
        "# shape array with 2 rows and 2 columns\n",
        "array = np.arange(4).reshape(2, 2)\n",
        "print(\"\\narray reshaped with 2 rows and 2 columns : \\n\", array)\n",
        "\n",
        "# shape array with 4 rows and 2 columns\n",
        "array = np.arange(8).reshape(4, 2)\n",
        "print(\"\\narray reshaped with 4 rows and 2 columns : \\n\", array)\n",
        " \n",
        " \n",
        "# shape array with 2 rows and 4 columns\n",
        "array = np.arange(8).reshape(4 ,2)\n",
        "print(\"\\narray reshaped with 4 rows and 2 columns : \\n\", array)\n",
        " \n",
        "# Constructs 3D array\n",
        "array = np.arange(8).reshape(2, 2, 2)\n",
        "print(\"\\nOriginal array reshaped to 3D : \\n\", array)\n"
      ],
      "execution_count": 0,
      "outputs": [
        {
          "output_type": "stream",
          "text": [
            "Original array : \n",
            " [0 1 2 3 4 5 6 7]\n",
            "\n",
            "array reshaped with 2 rows and 2 columns : \n",
            " [[0 1]\n",
            " [2 3]]\n",
            "\n",
            "array reshaped with 4 rows and 2 columns : \n",
            " [[0 1]\n",
            " [2 3]\n",
            " [4 5]\n",
            " [6 7]]\n",
            "\n",
            "array reshaped with 4 rows and 2 columns : \n",
            " [[0 1]\n",
            " [2 3]\n",
            " [4 5]\n",
            " [6 7]]\n",
            "\n",
            "Original array reshaped to 3D : \n",
            " [[[0 1]\n",
            "  [2 3]]\n",
            "\n",
            " [[4 5]\n",
            "  [6 7]]]\n"
          ],
          "name": "stdout"
        }
      ]
    },
    {
      "cell_type": "code",
      "metadata": {
        "id": "TYq3hHJgq2oB",
        "colab_type": "code",
        "outputId": "5cc70fc9-89cc-41f7-bf49-4d5de4040bca",
        "colab": {
          "base_uri": "https://localhost:8080/",
          "height": 51
        }
      },
      "source": [
        "from numpy import array\n",
        "# list of data\n",
        "data = [[11, 22],\n",
        "\t\t[33, 44],\n",
        "\t\t[55, 66]]\n",
        "# array of data\n",
        "data = array(data)\n",
        "print('Rows: %d' % data.shape[0])\n",
        "print('Cols: %d' % data.shape[1])"
      ],
      "execution_count": 0,
      "outputs": [
        {
          "output_type": "stream",
          "text": [
            "Rows: 3\n",
            "Cols: 2\n"
          ],
          "name": "stdout"
        }
      ]
    },
    {
      "cell_type": "code",
      "metadata": {
        "id": "cQvq7qW__bS3",
        "colab_type": "code",
        "outputId": "fcd7679f-b80f-4a2b-8e99-8f6dc71a4995",
        "colab": {
          "base_uri": "https://localhost:8080/",
          "height": 153
        }
      },
      "source": [
        "\n",
        "# reshape 1D array to 2D Array\n",
        "from numpy import array\n",
        "from numpy import reshape\n",
        "# define array\n",
        "data = array([11, 22, 33, 44, 55])\n",
        "print(data.shape)\n",
        "# reshape\n",
        "print (data.shape[0])\n",
        "data = data.reshape((data.shape[0], 1))\n",
        "print(data.shape)\n",
        "\n",
        "print (data)"
      ],
      "execution_count": 0,
      "outputs": [
        {
          "output_type": "stream",
          "text": [
            "(5,)\n",
            "5\n",
            "(5, 1)\n",
            "[[11]\n",
            " [22]\n",
            " [33]\n",
            " [44]\n",
            " [55]]\n"
          ],
          "name": "stdout"
        }
      ]
    },
    {
      "cell_type": "code",
      "metadata": {
        "id": "zQwuU-5yvsiV",
        "colab_type": "code",
        "outputId": "076346f2-62a4-4cbc-cc85-426065969ada",
        "colab": {
          "base_uri": "https://localhost:8080/",
          "height": 34
        }
      },
      "source": [
        "# A tensor that contains only one number is called a scalar (or scalar tensor, or 0-dimensional tensor, or 0D tensor).\n",
        "# In Numpy, a float32 or float64 number is a scalar tensor (or scalar array).\n",
        "\n",
        "import numpy as np\n",
        "x = np.array(12)\n",
        "print (x.ndim)"
      ],
      "execution_count": 0,
      "outputs": [
        {
          "output_type": "stream",
          "text": [
            "0\n"
          ],
          "name": "stdout"
        }
      ]
    },
    {
      "cell_type": "code",
      "metadata": {
        "id": "_CGb1e7iwKgk",
        "colab_type": "code",
        "outputId": "59590fff-8a75-4843-a0f1-b3bd8aafa403",
        "colab": {
          "base_uri": "https://localhost:8080/",
          "height": 34
        }
      },
      "source": [
        "#An array of numbers is called a vector, or 1D tensor. \n",
        "# A 1D tensor is said to have exactly one axis. Following is a Numpy vector:\n",
        "\n",
        "a = np.array([100, 200, 300])   #Rank 1 array\n",
        "print(a.ndim)             # Prints 1"
      ],
      "execution_count": 0,
      "outputs": [
        {
          "output_type": "stream",
          "text": [
            "1\n"
          ],
          "name": "stdout"
        }
      ]
    },
    {
      "cell_type": "code",
      "metadata": {
        "id": "Exi8J4VCwvcG",
        "colab_type": "code",
        "outputId": "67b6abb8-3f49-4a3a-afa2-6c1419b0c2b8",
        "colab": {
          "base_uri": "https://localhost:8080/",
          "height": 34
        }
      },
      "source": [
        "# Matrices (2D tensors)\n",
        "# An array of vectors is a matrix, or 2D tensor.\n",
        "# A matrix has two axes (often referred to rows and columns).\n",
        "# You can visually interpret a matrix as a rectangular grid of numbers. This is a Numpy matrix:\n",
        "\n",
        "x = np.array([[5, 78, 2, 34, 0],\n",
        "                  [6, 79, 3, 35, 1],\n",
        "                  [7, 80, 4, 36, 2]])\n",
        "\n",
        "print (x.ndim)"
      ],
      "execution_count": 0,
      "outputs": [
        {
          "output_type": "stream",
          "text": [
            "2\n"
          ],
          "name": "stdout"
        }
      ]
    },
    {
      "cell_type": "code",
      "metadata": {
        "id": "xSO9S153xI-f",
        "colab_type": "code",
        "outputId": "c2dadb14-fdaf-4003-f6dc-1d98cf66294b",
        "colab": {
          "base_uri": "https://localhost:8080/",
          "height": 221
        }
      },
      "source": [
        "# If you pack such matrices in a new array, you obtain a 3D tensor, \n",
        "# which you can visually interpret as a cube of numbers. Following is a Numpy 3D tensor\n",
        "\n",
        "x = np.array([[[5, 78, 2, 34, 0],\n",
        "                   [6, 79, 3, 35, 1],\n",
        "                   [7, 80, 4, 36, 2]],\n",
        "                  [[5, 78, 2, 34, 0],\n",
        "                   [6, 79, 3, 35, 1],\n",
        "                   [7, 80, 4, 36, 2]],\n",
        "                  [[5, 78, 2, 34, 0],\n",
        "                   [6, 79, 3, 35, 1],\n",
        "                   [7, 80, 4, 36, 2]]])\n",
        "\n",
        "print (x)\n",
        "\n",
        "print (x.ndim)"
      ],
      "execution_count": 0,
      "outputs": [
        {
          "output_type": "stream",
          "text": [
            "[[[ 5 78  2 34  0]\n",
            "  [ 6 79  3 35  1]\n",
            "  [ 7 80  4 36  2]]\n",
            "\n",
            " [[ 5 78  2 34  0]\n",
            "  [ 6 79  3 35  1]\n",
            "  [ 7 80  4 36  2]]\n",
            "\n",
            " [[ 5 78  2 34  0]\n",
            "  [ 6 79  3 35  1]\n",
            "  [ 7 80  4 36  2]]]\n",
            "3\n"
          ],
          "name": "stdout"
        }
      ]
    },
    {
      "cell_type": "code",
      "metadata": {
        "id": "9XRtZNm6xg0x",
        "colab_type": "code",
        "colab": {}
      },
      "source": [
        "# In deep learning, you’ll generally manipulate tensors that are 0D to 4D"
      ],
      "execution_count": 0,
      "outputs": []
    },
    {
      "cell_type": "code",
      "metadata": {
        "id": "vyBUimnIxqSm",
        "colab_type": "code",
        "outputId": "17ee74a5-09ce-4a96-bf6d-941d5584c808",
        "colab": {
          "base_uri": "https://localhost:8080/",
          "height": 119
        }
      },
      "source": [
        "from keras.datasets import mnist\n",
        "(train_images, train_labels), (test_images, test_labels) = mnist.load_data()\n",
        "print(train_images.ndim)\n",
        "print(train_images.shape)\n",
        "print(train_images.dtype)\n",
        "\n",
        "#So what we have here is a 3D tensor of 8-bit integers. \n",
        "#More precisely, it’s an array of 60,000 matrices of 28 × 28 integers. \n",
        "#Each such matrix is a grayscale image, with coefficients between 0 and 255."
      ],
      "execution_count": 0,
      "outputs": [
        {
          "output_type": "stream",
          "text": [
            "Using TensorFlow backend.\n"
          ],
          "name": "stderr"
        },
        {
          "output_type": "stream",
          "text": [
            "Downloading data from https://s3.amazonaws.com/img-datasets/mnist.npz\n",
            "11493376/11490434 [==============================] - 0s 0us/step\n",
            "3\n",
            "(60000, 28, 28)\n",
            "uint8\n"
          ],
          "name": "stdout"
        }
      ]
    },
    {
      "cell_type": "markdown",
      "metadata": {
        "id": "DfsZPp3yyTj5",
        "colab_type": "text"
      },
      "source": [
        "Real-world examples of data tensors\n",
        "\n",
        "**Vector data**— 2D tensors of shape (samples, features)\n",
        "\n",
        "**Timeseries data or sequence data**— 3D tensors of shape (samples, timesteps, features)\n",
        "\n",
        "**Images**— 4D tensors of shape (samples, height, width, channels) or (samples, channels, height, width)\n",
        "\n",
        "**Video**— 5D tensors of shape (samples, frames, height, width, channels)\n"
      ]
    },
    {
      "cell_type": "code",
      "metadata": {
        "id": "CuHujePE5G6u",
        "colab_type": "code",
        "outputId": "7d13c97e-ff09-4d7e-c282-65d9293a5acb",
        "colab": {
          "base_uri": "https://localhost:8080/",
          "height": 119
        }
      },
      "source": [
        "# The simplest example of this type of operation is transposing a matrix; \n",
        "# to transpose a matrix, simply use the T attribute of an array object:\n",
        "\n",
        "\n",
        "import numpy as np\n",
        "\n",
        "x = np.array([[1,2], [3,4]])\n",
        "print(x)    # Prints \"[[1 2]\n",
        "            #          [3 4]]\"\n",
        "print(x.T)  # Prints \"[[1 3]\n",
        "            #          [2 4]]\"\n",
        "\n",
        "# Note that taking the transpose of a rank 1 array does nothing:\n",
        "v = np.array([1,2,3])\n",
        "print(v)    # Prints \"[1 2 3]\"\n",
        "print(v.T)  # Prints \"[1 2 3]\""
      ],
      "execution_count": 0,
      "outputs": [
        {
          "output_type": "stream",
          "text": [
            "[[1 2]\n",
            " [3 4]]\n",
            "[[1 3]\n",
            " [2 4]]\n",
            "[1 2 3]\n",
            "[1 2 3]\n"
          ],
          "name": "stdout"
        }
      ]
    },
    {
      "cell_type": "markdown",
      "metadata": {
        "id": "ABd7sb6B-bHm",
        "colab_type": "text"
      },
      "source": [
        "Broadcasting is a powerful mechanism that allows numpy to work with arrays of different shapes \n",
        "when performing arithmetic operations. \n",
        "Frequently we have a smaller array and a larger array, \n",
        "and we want to use the smaller array multiple times to perform some operation on the larger array.\n",
        "\n",
        "For example, suppose that we want to add a constant vector to each row of a matrix. "
      ]
    },
    {
      "cell_type": "code",
      "metadata": {
        "id": "bUcWJ8K--Swf",
        "colab_type": "code",
        "outputId": "ee14ecd6-cc4f-4b3b-936d-8e2402532ad7",
        "colab": {
          "base_uri": "https://localhost:8080/",
          "height": 153
        }
      },
      "source": [
        "import numpy as np\n",
        "\n",
        "# We will add the vector v to each row of the matrix x,\n",
        "# storing the result in the matrix y\n",
        "x = np.array([[1,2,3], [4,5,6], [7,8,9], [10, 11, 12]])\n",
        "v = np.array([1, 0, 1])\n",
        "y = np.empty_like(x)   # Create an empty matrix with the same shape as x\n",
        "\n",
        "print(y)\n",
        "\n",
        "# Add the vector v to each row of the matrix x with an explicit loop\n",
        "for i in range(4):\n",
        "    y[i, :] = x[i, :] + v\n",
        "\n",
        "# Now y is the following\n",
        "# [[ 2  2  4]\n",
        "#  [ 5  5  7]\n",
        "#  [ 8  8 10]\n",
        "#  [11 11 13]]\n",
        "print(y)\n",
        "\n"
      ],
      "execution_count": 0,
      "outputs": [
        {
          "output_type": "stream",
          "text": [
            "[[ 1  2  3]\n",
            " [ 4  5  6]\n",
            " [ 7  8  9]\n",
            " [10 11 12]]\n",
            "[[ 2  2  4]\n",
            " [ 5  5  7]\n",
            " [ 8  8 10]\n",
            " [11 11 13]]\n"
          ],
          "name": "stdout"
        }
      ]
    },
    {
      "cell_type": "code",
      "metadata": {
        "id": "ynvxH6hS-pE_",
        "colab_type": "code",
        "outputId": "2f98c149-efbd-4310-b6bb-44d540dea742",
        "colab": {
          "base_uri": "https://localhost:8080/",
          "height": 85
        }
      },
      "source": [
        "import numpy as np\n",
        "\n",
        "# We will add the vector v to each row of the matrix x,\n",
        "# storing the result in the matrix y\n",
        "x = np.array([[1,2,3], [4,5,6], [7,8,9], [10, 11, 12]])\n",
        "v = np.array([1, 0, 1])\n",
        "y = x + v  # Add v to each row of x using broadcasting\n",
        "print(y)  # Prints \"[[ 2  2  4]\n",
        "          #          [ 5  5  7]\n",
        "          #          [ 8  8 10]\n",
        "          #          [11 11 13]]\"\n",
        "      \n",
        "#The line y = x + v works even though x has shape (4, 3) \n",
        "#and v has shape (3,) due to broadcasting; this line works as if v actually had shape (4, 3), \n",
        "#where each row was a copy of v, and the sum was performed elementwise.      "
      ],
      "execution_count": 0,
      "outputs": [
        {
          "output_type": "stream",
          "text": [
            "[[ 2  2  4]\n",
            " [ 5  5  7]\n",
            " [ 8  8 10]\n",
            " [11 11 13]]\n"
          ],
          "name": "stdout"
        }
      ]
    },
    {
      "cell_type": "markdown",
      "metadata": {
        "id": "sxhNn11pI0uu",
        "colab_type": "text"
      },
      "source": [
        "# Pandas"
      ]
    },
    {
      "cell_type": "markdown",
      "metadata": {
        "id": "Qs0e7blGI80Q",
        "colab_type": "text"
      },
      "source": [
        "A pandas series is similar to numpy arrays or lists but with more functionality.\n",
        "\n",
        "\n",
        "\n"
      ]
    },
    {
      "cell_type": "code",
      "metadata": {
        "id": "ZYdAvbD-I5Oj",
        "colab_type": "code",
        "outputId": "9cc750c3-ef91-4c59-a690-e2940badc8ed",
        "colab": {
          "base_uri": "https://localhost:8080/",
          "height": 193
        }
      },
      "source": [
        "# Refer for more\n",
        "# https://docs.google.com/spreadsheets/d/1SbKUKZIEs9ibZM18y4b3YoWQJW8XMIpbyIaZRstyDAQ/edit?usp=sharing\n",
        "\n",
        "#import numpy as np\n",
        "import pandas as pd\n",
        "\n",
        "#a = np.array([1,2,3,4])\n",
        "series = pd.Series([1,2,3,4])\n",
        "\n",
        "\n",
        "print (series.describe(),'\\n')  # These functions are not available in numpy arrays\n",
        "\n",
        "\n",
        "\n",
        "\n"
      ],
      "execution_count": 0,
      "outputs": [
        {
          "output_type": "stream",
          "text": [
            "count    4.000000\n",
            "mean     2.500000\n",
            "std      1.290994\n",
            "min      1.000000\n",
            "25%      1.750000\n",
            "50%      2.500000\n",
            "75%      3.250000\n",
            "max      4.000000\n",
            "dtype: float64 \n",
            "\n"
          ],
          "name": "stdout"
        }
      ]
    },
    {
      "cell_type": "code",
      "metadata": {
        "id": "HPm82fP1Qn9w",
        "colab_type": "code",
        "colab": {
          "base_uri": "https://localhost:8080/",
          "height": 272
        },
        "outputId": "6afe741d-3523-4086-f8d8-a6476585b2dd"
      },
      "source": [
        "import pandas as pd\n",
        "series = pd.Series([1,2,3,4])\n",
        "\n",
        "print (series)\n",
        "print (\"\\n\")\n",
        "\n",
        "\n",
        "print (series[0],'\\n')  # One can access using the same way like numpy array\n",
        "print (\"\\n\")\n",
        "\n",
        "\n",
        "print (series[:2],'\\n')  # same slice notation."
      ],
      "execution_count": 1,
      "outputs": [
        {
          "output_type": "stream",
          "text": [
            "0    1\n",
            "1    2\n",
            "2    3\n",
            "3    4\n",
            "dtype: int64\n",
            "\n",
            "\n",
            "1 \n",
            "\n",
            "\n",
            "\n",
            "0    1\n",
            "1    2\n",
            "dtype: int64 \n",
            "\n"
          ],
          "name": "stdout"
        }
      ]
    },
    {
      "cell_type": "code",
      "metadata": {
        "id": "bTShAeOgQr2O",
        "colab_type": "code",
        "colab": {
          "base_uri": "https://localhost:8080/",
          "height": 85
        },
        "outputId": "6be8f8ad-fcc4-4faf-9e04-50fcdd7a8a92"
      },
      "source": [
        "series = pd.Series([1,2,3,4])\n",
        "for d in series:\n",
        "  print (d)\n",
        "  \n"
      ],
      "execution_count": 2,
      "outputs": [
        {
          "output_type": "stream",
          "text": [
            "1\n",
            "2\n",
            "3\n",
            "4\n"
          ],
          "name": "stdout"
        }
      ]
    },
    {
      "cell_type": "code",
      "metadata": {
        "id": "8rneqzH9QtRN",
        "colab_type": "code",
        "colab": {
          "base_uri": "https://localhost:8080/",
          "height": 102
        },
        "outputId": "c8ee8ba4-9b10-4797-9503-e0f6b97fced1"
      },
      "source": [
        "series = pd.Series([1,2,3,4])\n",
        "print ('\\n')  \n",
        "\n",
        "print ('mean', series.mean())  \n",
        "print ('std',  series.std())\n",
        "print ('max', series.max())"
      ],
      "execution_count": 3,
      "outputs": [
        {
          "output_type": "stream",
          "text": [
            "\n",
            "\n",
            "mean 2.5\n",
            "std 1.2909944487358056\n",
            "max 4\n"
          ],
          "name": "stdout"
        }
      ]
    },
    {
      "cell_type": "code",
      "metadata": {
        "id": "A2sCGniWQ9G8",
        "colab_type": "code",
        "outputId": "b3bc1f91-ffe0-42f8-b4e0-ac67b1bac157",
        "colab": {
          "base_uri": "https://localhost:8080/",
          "height": 323
        }
      },
      "source": [
        "# Vectorized operations and index arrays\n",
        "a = pd.Series([1, 2, 3, 4])\n",
        "b = pd.Series([1, 2, 1, 2])\n",
        "  \n",
        "print (a + b)\n",
        "print (a * 2)\n",
        "print (a >= 3)\n",
        "print (a[a >= 3])  "
      ],
      "execution_count": 4,
      "outputs": [
        {
          "output_type": "stream",
          "text": [
            "0    2\n",
            "1    4\n",
            "2    4\n",
            "3    6\n",
            "dtype: int64\n",
            "0    2\n",
            "1    4\n",
            "2    6\n",
            "3    8\n",
            "dtype: int64\n",
            "0    False\n",
            "1    False\n",
            "2     True\n",
            "3     True\n",
            "dtype: bool\n",
            "2    3\n",
            "3    4\n",
            "dtype: int64\n"
          ],
          "name": "stdout"
        }
      ]
    },
    {
      "cell_type": "code",
      "metadata": {
        "id": "h8bzyQsMQl6r",
        "colab_type": "code",
        "outputId": "96722166-3bf8-4bc6-958f-9a53c50dd4f1",
        "colab": {
          "base_uri": "https://localhost:8080/",
          "height": 224
        }
      },
      "source": [
        "# Panda Series Index\n",
        "\n",
        "\n",
        "population = pd.Series([1415045928,1354051854,326766748])\n",
        "print (population,'\\n')\n",
        "\n",
        "population = pd.Series([1415045928,1354051854,326766748], index = [\"China\", \"India\", \"US\"])\n",
        "\n",
        "print (population,'\\n')\n",
        "\n",
        "# Numpy arrays are like superman version of list\n",
        "# A Panda Series is like a mix of list and dictionary\n",
        "\n",
        "print ('***Population[0] =', population [0])\n",
        "print ('***Population[\\'India\\']=',population['India'] )"
      ],
      "execution_count": 0,
      "outputs": [
        {
          "output_type": "stream",
          "text": [
            "0    1415045928\n",
            "1    1354051854\n",
            "2     326766748\n",
            "dtype: int64 \n",
            "\n",
            "China    1415045928\n",
            "India    1354051854\n",
            "US        326766748\n",
            "dtype: int64 \n",
            "\n",
            "***Population[0] = 1415045928\n",
            "***Population['India']= 1354051854\n"
          ],
          "name": "stdout"
        }
      ]
    },
    {
      "cell_type": "code",
      "metadata": {
        "id": "uc9GbrI1DYUx",
        "colab_type": "code",
        "colab": {
          "base_uri": "https://localhost:8080/",
          "height": 68
        },
        "outputId": "f3ad3bdb-d35f-44ff-810a-032701457f9f"
      },
      "source": [
        "# How we will do the same thing in numpy\n",
        "\n",
        "import numpy as np\n",
        "\n",
        "\n",
        "population = np.array([1415045928,1354051854,326766748])\n",
        "index = np.array([\"China\", \"India\", \"US\"])\n",
        "\n",
        "print (population,'\\n')\n",
        "\n",
        "# Numpy arrays are like superman version of list\n",
        "# A Panda Series is like a mix of list and dictionary\n",
        "\n",
        "\n",
        "print ('Population of {} is {}'.format(index[1], population[1])) "
      ],
      "execution_count": 5,
      "outputs": [
        {
          "output_type": "stream",
          "text": [
            "[1415045928 1354051854  326766748] \n",
            "\n",
            "Population of India is 1354051854\n"
          ],
          "name": "stdout"
        }
      ]
    },
    {
      "cell_type": "code",
      "metadata": {
        "id": "JA3h5_2ZkNIl",
        "colab_type": "code",
        "colab": {
          "base_uri": "https://localhost:8080/",
          "height": 85
        },
        "outputId": "86e77ff3-3179-4094-de57-9f439a6301b0"
      },
      "source": [
        "# If no indexes are specified Pandas creates Index\n",
        "import pandas as pd\n",
        "\n",
        "numseries = pd.Series([200,400,800])\n",
        "print (numseries)"
      ],
      "execution_count": 6,
      "outputs": [
        {
          "output_type": "stream",
          "text": [
            "0    200\n",
            "1    400\n",
            "2    800\n",
            "dtype: int64\n"
          ],
          "name": "stdout"
        }
      ]
    },
    {
      "cell_type": "code",
      "metadata": {
        "id": "dJOV4hXflECE",
        "colab_type": "code",
        "outputId": "870cb3a1-c8f1-46c2-e5ab-5162bb198cae",
        "colab": {
          "base_uri": "https://localhost:8080/",
          "height": 136
        }
      },
      "source": [
        "# iloc and loc\n",
        "\n",
        "import pandas as pd\n",
        "\n",
        "population = pd.Series([1415045928,1354051854,326766748], index = [\"China\", \"India\", \"US\"])\n",
        "\n",
        "print (population)\n",
        "\n",
        "print (population[0]) # Accessing using number index without iloc\n",
        "\n",
        "\n",
        "print (population.iloc[0]) # Accessing using number index\n",
        "\n",
        "print (population.loc['China']) # Accessing using index"
      ],
      "execution_count": 7,
      "outputs": [
        {
          "output_type": "stream",
          "text": [
            "China    1415045928\n",
            "India    1354051854\n",
            "US        326766748\n",
            "dtype: int64\n",
            "1415045928\n",
            "1415045928\n",
            "1415045928\n"
          ],
          "name": "stdout"
        }
      ]
    },
    {
      "cell_type": "code",
      "metadata": {
        "id": "gkph0NPUPTKm",
        "colab_type": "code",
        "outputId": "78d25d3b-2db7-437b-af50-7f5a2a6cc7af",
        "colab": {
          "base_uri": "https://localhost:8080/",
          "height": 255
        }
      },
      "source": [
        "# Searching For a value in Pandas Series\n",
        "\n",
        "\n",
        "\n",
        "import pandas as pd\n",
        "\n",
        "population = pd.Series([1415045928,1354051854,326766748], index = [\"China\", \"India\", \"US\"])\n",
        "\n",
        "print(population==1415045928,'\\n')\n",
        "\n",
        "value1 = population[population==1415045928]\n",
        "value2 = index[population==1415045928]\n",
        "\n",
        "print (value1,'\\n')\n",
        "print (value2,'\\n')\n",
        "\n",
        "\n",
        "print (type(value1),'\\n')\n",
        "print (type(value2),'\\n')"
      ],
      "execution_count": 23,
      "outputs": [
        {
          "output_type": "stream",
          "text": [
            "China     True\n",
            "India    False\n",
            "US       False\n",
            "dtype: bool \n",
            "\n",
            "China    1415045928\n",
            "dtype: int64 \n",
            "\n",
            "['China'] \n",
            "\n",
            "<class 'pandas.core.series.Series'> \n",
            "\n",
            "<class 'numpy.ndarray'> \n",
            "\n"
          ],
          "name": "stdout"
        }
      ]
    },
    {
      "cell_type": "code",
      "metadata": {
        "id": "eXyea81zjQxD",
        "colab_type": "code",
        "colab": {
          "base_uri": "https://localhost:8080/",
          "height": 34
        },
        "outputId": "0622371f-418e-43f4-fef0-e7e3d178362a"
      },
      "source": [
        "import pandas as pd\n",
        "\n",
        "population = [1415045928,1354051854,326766748]\n",
        "\n",
        "for i in population:\n",
        "    if i == 1415045928:\n",
        "        value = population[population==1415045928]\n",
        "\n",
        "print (value)"
      ],
      "execution_count": 11,
      "outputs": [
        {
          "output_type": "stream",
          "text": [
            "1415045928\n"
          ],
          "name": "stdout"
        }
      ]
    },
    {
      "cell_type": "code",
      "metadata": {
        "id": "WvIPPiKelAy_",
        "colab_type": "code",
        "colab": {
          "base_uri": "https://localhost:8080/",
          "height": 68
        },
        "outputId": "2c72c66b-02da-4416-b584-d3c51f8e274c"
      },
      "source": [
        "import pandas as pd\n",
        "\n",
        "population = pd.Series([1415045928,1354051854,326766748], index = [\"China\", \"India\", \"US\"])\n",
        "\n",
        "value = population[(population==1415045928) | (population==1354051854)]\n",
        "\n",
        "print (value)\n"
      ],
      "execution_count": 14,
      "outputs": [
        {
          "output_type": "stream",
          "text": [
            "China    1415045928\n",
            "India    1354051854\n",
            "dtype: int64\n"
          ],
          "name": "stdout"
        }
      ]
    },
    {
      "cell_type": "code",
      "metadata": {
        "id": "ZXz4XYPFllCc",
        "colab_type": "code",
        "outputId": "571c21d1-937f-497b-9daf-31672a4ce4b6",
        "colab": {
          "base_uri": "https://localhost:8080/",
          "height": 68
        }
      },
      "source": [
        "# Finding out maximum population\n",
        "import pandas as pd\n",
        "\n",
        "\n",
        "print (pd.__version__)\n",
        "\n",
        "population = pd.Series(data =[1415045928,1354051854,326766748], index = [\"China\", \"India\", \"US\"])\n",
        "\n",
        "\n",
        "print (\"Country Index with maximum population =\",population.values.argmax())\n",
        "print (\"The max population is of country = {} and population ={}\".format(index[population.values.argmax()],\n",
        "                                                                         population.iloc[population.values.argmax()])) #or population[population.values.argmax()]"
      ],
      "execution_count": 29,
      "outputs": [
        {
          "output_type": "stream",
          "text": [
            "1.0.3\n",
            "Country Index with maximum population = 0\n",
            "The max population is of country = China and population =1415045928\n"
          ],
          "name": "stdout"
        }
      ]
    },
    {
      "cell_type": "code",
      "metadata": {
        "id": "KobWByuAArzn",
        "colab_type": "code",
        "colab": {
          "base_uri": "https://localhost:8080/",
          "height": 102
        },
        "outputId": "22ff5804-f58f-4ff9-b4ad-0273f535b33e"
      },
      "source": [
        "import pandas as pd\n",
        "\n",
        "\n",
        "# Addition when indexes are the same\n",
        "s1 = pd.Series([1, 2, 3, 4], index=['a', 'b', 'c', 'd'])\n",
        "s2 = pd.Series([100, 200, 300, 400], index=['a', 'b', 'c', 'd'])\n",
        "print (s1 + s2)"
      ],
      "execution_count": 30,
      "outputs": [
        {
          "output_type": "stream",
          "text": [
            "a    101\n",
            "b    202\n",
            "c    303\n",
            "d    404\n",
            "dtype: int64\n"
          ],
          "name": "stdout"
        }
      ]
    },
    {
      "cell_type": "code",
      "metadata": {
        "id": "lmnGszVHBJVI",
        "colab_type": "code",
        "colab": {
          "base_uri": "https://localhost:8080/",
          "height": 102
        },
        "outputId": "94185f3f-b279-4f78-e961-e9d4f46ca7e7"
      },
      "source": [
        "# Indexes have same elements in a different order\n",
        "\n",
        "s1 = pd.Series([1, 2, 3, 4], index=['a', 'b', 'c', 'd'])\n",
        "s2 = pd.Series([100, 200, 300, 400], index=['b', 'd', 'a', 'c'])\n",
        "print (s1 + s2)"
      ],
      "execution_count": 31,
      "outputs": [
        {
          "output_type": "stream",
          "text": [
            "a    301\n",
            "b    102\n",
            "c    403\n",
            "d    204\n",
            "dtype: int64\n"
          ],
          "name": "stdout"
        }
      ]
    },
    {
      "cell_type": "code",
      "metadata": {
        "id": "nwPTnheBBLAq",
        "colab_type": "code",
        "outputId": "44dd2f8e-c336-4fa0-b638-bdccc33c06d4",
        "colab": {
          "base_uri": "https://localhost:8080/",
          "height": 136
        }
      },
      "source": [
        "# Indexes overlap, but do not have exactly the same elements\n",
        "\n",
        "s1 = pd.Series([1, 2, 3, 4], index=['a', 'b', 'c', 'd'])\n",
        "s2 = pd.Series([100, 200, 300, 400], index=['c', 'd', 'e', 'f'])\n",
        "print (s1 + s2)"
      ],
      "execution_count": 32,
      "outputs": [
        {
          "output_type": "stream",
          "text": [
            "a      NaN\n",
            "b      NaN\n",
            "c    103.0\n",
            "d    204.0\n",
            "e      NaN\n",
            "f      NaN\n",
            "dtype: float64\n"
          ],
          "name": "stdout"
        }
      ]
    },
    {
      "cell_type": "code",
      "metadata": {
        "id": "am7pW9pvBMTG",
        "colab_type": "code",
        "colab": {
          "base_uri": "https://localhost:8080/",
          "height": 170
        },
        "outputId": "bddd0082-0b06-4684-e540-f54e9881e7aa"
      },
      "source": [
        "# Indexes do not overlap\n",
        "\n",
        "s1 = pd.Series([1, 2, 3, 4], index=['a', 'b', 'c', 'd'])\n",
        "s2 = pd.Series([10, 20, 30, 40], index=['e', 'f', 'g', 'h'])\n",
        "print (s1 + s2)"
      ],
      "execution_count": 33,
      "outputs": [
        {
          "output_type": "stream",
          "text": [
            "a   NaN\n",
            "b   NaN\n",
            "c   NaN\n",
            "d   NaN\n",
            "e   NaN\n",
            "f   NaN\n",
            "g   NaN\n",
            "h   NaN\n",
            "dtype: float64\n"
          ],
          "name": "stdout"
        }
      ]
    },
    {
      "cell_type": "code",
      "metadata": {
        "id": "tezJLk51BlPk",
        "colab_type": "code",
        "outputId": "129779bc-60a3-4a58-b7c3-669ab42ddab1",
        "colab": {
          "base_uri": "https://localhost:8080/",
          "height": 187
        }
      },
      "source": [
        "# Using dropna\n",
        "\n",
        "s1 = pd.Series([1, 2, 3, 4], index=['a', 'b', 'c', 'd'])\n",
        "s2 = pd.Series([10, 20, 30, 40], index=['a', 'b', 'g', 'h'])\n",
        "result  =  s1 + s2\n",
        "print (result)\n",
        "print (result.dropna())"
      ],
      "execution_count": 34,
      "outputs": [
        {
          "output_type": "stream",
          "text": [
            "a    11.0\n",
            "b    22.0\n",
            "c     NaN\n",
            "d     NaN\n",
            "g     NaN\n",
            "h     NaN\n",
            "dtype: float64\n",
            "a    11.0\n",
            "b    22.0\n",
            "dtype: float64\n"
          ],
          "name": "stdout"
        }
      ]
    },
    {
      "cell_type": "code",
      "metadata": {
        "id": "8FJWEYjFCHbs",
        "colab_type": "code",
        "colab": {
          "base_uri": "https://localhost:8080/",
          "height": 136
        },
        "outputId": "86182492-a7e1-423c-bb6e-08d957c2c8e2"
      },
      "source": [
        "# Using fill_value\n",
        "\n",
        "s1 = pd.Series([1, 2, 3, 4], index=['a', 'b', 'c', 'd'])\n",
        "s2 = pd.Series([10, 20, 30, 40], index=['a', 'b', 'g', 'h'])\n",
        "result  =  s1.add(s2,fill_value=0)\n",
        "print (result.dropna())"
      ],
      "execution_count": 35,
      "outputs": [
        {
          "output_type": "stream",
          "text": [
            "a    11.0\n",
            "b    22.0\n",
            "c     3.0\n",
            "d     4.0\n",
            "g    30.0\n",
            "h    40.0\n",
            "dtype: float64\n"
          ],
          "name": "stdout"
        }
      ]
    },
    {
      "cell_type": "code",
      "metadata": {
        "id": "umDyDzKoDLIm",
        "colab_type": "code",
        "colab": {
          "base_uri": "https://localhost:8080/",
          "height": 85
        },
        "outputId": "dc714909-24ca-4eed-b528-5052512eb091"
      },
      "source": [
        "# Using Pandas Apply\n",
        "import pandas as pd\n",
        "\n",
        "def make_capital(str):\n",
        "  return str.capitalize()\n",
        "\n",
        "\n",
        "s1 = pd.Series(['india', 'china', 'brazil'], index=['a', 'b', 'c'])\n",
        "s2 = s1.apply(make_capital)\n",
        "\n",
        "print (s2)"
      ],
      "execution_count": 36,
      "outputs": [
        {
          "output_type": "stream",
          "text": [
            "a     India\n",
            "b     China\n",
            "c    Brazil\n",
            "dtype: object\n"
          ],
          "name": "stdout"
        }
      ]
    },
    {
      "cell_type": "code",
      "metadata": {
        "id": "S-8HPfIuu2dI",
        "colab_type": "code",
        "colab": {
          "base_uri": "https://localhost:8080/",
          "height": 85
        },
        "outputId": "e5ec7ef1-c9c5-4146-ae2a-ad86e52508dc"
      },
      "source": [
        "# Using Lambda\n",
        "\n",
        "s1 = pd.Series(['india', 'china', 'brazil'], index=['a', 'b', 'c'])\n",
        "s2 = s1.apply(lambda x: x.capitalize())\n",
        "\n",
        "print (s2)\n",
        "                "
      ],
      "execution_count": 37,
      "outputs": [
        {
          "output_type": "stream",
          "text": [
            "a     India\n",
            "b     China\n",
            "c    Brazil\n",
            "dtype: object\n"
          ],
          "name": "stdout"
        }
      ]
    },
    {
      "cell_type": "code",
      "metadata": {
        "id": "vy-33pQPFihl",
        "colab_type": "code",
        "outputId": "becb3df3-db3d-4083-e5b3-cfad2a496746",
        "colab": {
          "base_uri": "https://localhost:8080/",
          "height": 293
        }
      },
      "source": [
        "# Plotting values\n",
        "population = pd.Series(data = [1415045928,1354051854,326766748], index = [\"China\", \"India\", \"US\"])\n",
        "population.plot()\n"
      ],
      "execution_count": 38,
      "outputs": [
        {
          "output_type": "execute_result",
          "data": {
            "text/plain": [
              "<matplotlib.axes._subplots.AxesSubplot at 0x7f4ecbd687b8>"
            ]
          },
          "metadata": {
            "tags": []
          },
          "execution_count": 38
        },
        {
          "output_type": "display_data",
          "data": {
            "image/png": "[encoded data removed]",
            "text/plain": [
              "<Figure size 432x288 with 1 Axes>"
            ]
          },
          "metadata": {
            "tags": [],
            "needs_background": "light"
          }
        }
      ]
    },
    {
      "cell_type": "code",
      "metadata": {
        "id": "ZKvfpHQ_HUkb",
        "colab_type": "code",
        "outputId": "a45be498-6848-4a3c-fb04-e3f721ea6146",
        "colab": {
          "base_uri": "https://localhost:8080/",
          "height": 153
        }
      },
      "source": [
        "# Pandas DataFrame\n",
        "\n",
        "import pandas as pd\n",
        "\n",
        "country_df = pd.DataFrame({\n",
        "    'country':['India','China', 'USA'],\n",
        "    'population':[1415045928,1354051854,326766748],\n",
        "    'population2':[1415045928,1354051854,326766748], \n",
        "    'capital':['Delhi','Bejing','Washington']\n",
        "    \n",
        "})\n",
        "\n",
        "print (country_df,'\\n')\n",
        "\n",
        "print (country_df.mean())"
      ],
      "execution_count": 40,
      "outputs": [
        {
          "output_type": "stream",
          "text": [
            "  country  population  population2     capital\n",
            "0   India  1415045928   1415045928       Delhi\n",
            "1   China  1354051854   1354051854      Bejing\n",
            "2     USA   326766748    326766748  Washington \n",
            "\n",
            "population     1.031955e+09\n",
            "population2    1.031955e+09\n",
            "dtype: float64\n"
          ],
          "name": "stdout"
        }
      ]
    },
    {
      "cell_type": "code",
      "metadata": {
        "id": "-AQuQBpgLPXm",
        "colab_type": "code",
        "outputId": "249ea3c2-9316-44c5-e44b-bca3a305fb75",
        "colab": {
          "base_uri": "https://localhost:8080/",
          "height": 255
        }
      },
      "source": [
        "# Pandas DataFrame\n",
        "\n",
        "import pandas as pd\n",
        "\n",
        "country_df = pd.DataFrame({\n",
        "    'population':[1415045928,1354051854,326766748], \n",
        "    'capital':['Delhi','Bejing','Washington'],\n",
        "    'gdp':[2848231,14092514,20412870]\n",
        "    \n",
        "},\n",
        "index = ['India','China', 'USA'],\n",
        "\n",
        ")\n",
        "\n",
        "print (country_df,'\\n')\n",
        "print (country_df.loc['India'],'\\n')\n",
        "\n",
        "print (country_df.iloc[0])\n"
      ],
      "execution_count": 41,
      "outputs": [
        {
          "output_type": "stream",
          "text": [
            "       population     capital       gdp\n",
            "India  1415045928       Delhi   2848231\n",
            "China  1354051854      Bejing  14092514\n",
            "USA     326766748  Washington  20412870 \n",
            "\n",
            "population    1415045928\n",
            "capital            Delhi\n",
            "gdp              2848231\n",
            "Name: India, dtype: object \n",
            "\n",
            "population    1415045928\n",
            "capital            Delhi\n",
            "gdp              2848231\n",
            "Name: India, dtype: object\n"
          ],
          "name": "stdout"
        }
      ]
    },
    {
      "cell_type": "code",
      "metadata": {
        "id": "Zx7y2xn8MmvE",
        "colab_type": "code",
        "outputId": "bddd82e0-2bcc-45d1-d076-66bc4f7b2c87",
        "colab": {
          "base_uri": "https://localhost:8080/",
          "height": 272
        }
      },
      "source": [
        "# Pandas DataFrame\n",
        "\n",
        "import pandas as pd\n",
        "\n",
        "country_df = pd.DataFrame({\n",
        "    'population':[1415045928,1354051854,326766748], \n",
        "    'capital':['Delhi','Bejing','Washington'],\n",
        "    'gdp':[2848231,14092514,20412870]\n",
        "    \n",
        "},\n",
        "index = ['India','China', 'USA'],\n",
        "\n",
        ")\n",
        "\n",
        "print (country_df)\n",
        "print (country_df.loc['India','gdp'],'\\n')\n",
        "print (country_df.iloc[0,1],'\\n')\n",
        "print (country_df.iloc[[0,1],[0,2]],'\\n')\n",
        "\n",
        "print (country_df.loc[ ['India','China'],:])"
      ],
      "execution_count": 48,
      "outputs": [
        {
          "output_type": "stream",
          "text": [
            "       population     capital       gdp\n",
            "India  1415045928       Delhi   2848231\n",
            "China  1354051854      Bejing  14092514\n",
            "USA     326766748  Washington  20412870\n",
            "2848231 \n",
            "\n",
            "Delhi \n",
            "\n",
            "       population       gdp\n",
            "India  1415045928   2848231\n",
            "China  1354051854  14092514 \n",
            "\n",
            "       population capital       gdp\n",
            "India  1415045928   Delhi   2848231\n",
            "China  1354051854  Bejing  14092514\n"
          ],
          "name": "stdout"
        }
      ]
    },
    {
      "cell_type": "code",
      "metadata": {
        "id": "jVDbbVRINK9a",
        "colab_type": "code",
        "outputId": "3b55c592-2afc-49dc-e0d4-ca72d726ffe6",
        "colab": {
          "base_uri": "https://localhost:8080/",
          "height": 204
        }
      },
      "source": [
        "# Pandas DataFrame\n",
        "\n",
        "import pandas as pd\n",
        "\n",
        "country_df = pd.DataFrame({\n",
        "    'population':[1415045928,1354051854,326766748], \n",
        "    'capital':['Delhi','Bejing','Washington'],\n",
        "    'gdp':[2848231,14092514,20412870]\n",
        "    \n",
        "},\n",
        "index = ['India','China', 'USA'],\n",
        "\n",
        ")\n",
        "print (country_df)\n",
        "\n",
        "print ('\\n')\n",
        "print (country_df['gdp'],'\\n')"
      ],
      "execution_count": 50,
      "outputs": [
        {
          "output_type": "stream",
          "text": [
            "       population     capital       gdp\n",
            "India  1415045928       Delhi   2848231\n",
            "China  1354051854      Bejing  14092514\n",
            "USA     326766748  Washington  20412870\n",
            "\n",
            "\n",
            "India     2848231\n",
            "China    14092514\n",
            "USA      20412870\n",
            "Name: gdp, dtype: int64 \n",
            "\n"
          ],
          "name": "stdout"
        }
      ]
    },
    {
      "cell_type": "code",
      "metadata": {
        "id": "bBM2f0lyddOB",
        "colab_type": "code",
        "outputId": "64b970ed-20e7-4c14-a20b-b881055b8c9e",
        "colab": {
          "base_uri": "https://localhost:8080/",
          "height": 782
        }
      },
      "source": [
        "# Accessing Pandas as range of values\n",
        "\n",
        "\n",
        "#gdp':[2848231,14092514,20412870]\n",
        "\n",
        "import pandas as pd\n",
        "\n",
        "country_df = pd.DataFrame({\n",
        "    'population':[1415045928,1354051854,326766748], \n",
        "    'capital':['Delhi','Bejing','Washington'],\n",
        "    'gdp':[2848231,20412870,20412870]\n",
        "    \n",
        "    \n",
        "},\n",
        "index = ['India','China', 'USA'],\n",
        ")\n",
        "\n",
        "#print (country_df)\n",
        "\n",
        "\n",
        "print ('\\n------*0*-----\\n')\n",
        "\n",
        "columns_data = country_df.columns[:]\n",
        "print (columns_data)\n",
        "\n",
        "print ('\\n------*1*-----\\n')\n",
        "print (country_df[columns_data])\n",
        "\n",
        "\n",
        "col_data = country_df[columns_data]\n",
        "\n",
        "print ('\\n------*2*------\\n')\n",
        "\n",
        "print (col_data.iloc[:])\n",
        "\n",
        "print ('\\n------*2*------\\n')\n",
        "\n",
        "print (col_data.loc[:,['capital','gdp']] )  # show two columns using slice\n",
        "\n",
        "print ('\\n------*2*------\\n')\n",
        "\n",
        "print (col_data.iloc[:,[0,1]] )  # show two columns using iLoc\n",
        "\n",
        "\n",
        "\n",
        "gdp_df = col_data.loc[:,['gdp']]  \n",
        "\n",
        "print (\"\\n****The Country with maximum GDP  is \",gdp_df.idxmax())\n",
        "print (\"\\n****The maximum GDP  is \",gdp_df.max())\n",
        "print (\"\\n****The maximum GDP is \",gdp_df.max().values)\n",
        "\n",
        "\n",
        "# But there are two maximums\n",
        "\n",
        "print (country_df[country_df['gdp'] == country_df['gdp'].max()])\n",
        "\n",
        "print('*****************')\n",
        "x = country_df[country_df['gdp'] == country_df['gdp'].max()]\n",
        "print(x.index.values)"
      ],
      "execution_count": 52,
      "outputs": [
        {
          "output_type": "stream",
          "text": [
            "\n",
            "------*0*-----\n",
            "\n",
            "Index(['population', 'capital', 'gdp'], dtype='object')\n",
            "\n",
            "------*1*-----\n",
            "\n",
            "       population     capital       gdp\n",
            "India  1415045928       Delhi   2848231\n",
            "China  1354051854      Bejing  20412870\n",
            "USA     326766748  Washington  20412870\n",
            "\n",
            "------*2*------\n",
            "\n",
            "       population     capital       gdp\n",
            "India  1415045928       Delhi   2848231\n",
            "China  1354051854      Bejing  20412870\n",
            "USA     326766748  Washington  20412870\n",
            "\n",
            "------*2*------\n",
            "\n",
            "          capital       gdp\n",
            "India       Delhi   2848231\n",
            "China      Bejing  20412870\n",
            "USA    Washington  20412870\n",
            "\n",
            "------*2*------\n",
            "\n",
            "       population     capital\n",
            "India  1415045928       Delhi\n",
            "China  1354051854      Bejing\n",
            "USA     326766748  Washington\n",
            "\n",
            "****The Country with maximum GDP  is  gdp    China\n",
            "dtype: object\n",
            "\n",
            "****The maximum GDP  is  gdp    20412870\n",
            "dtype: int64\n",
            "\n",
            "****The maximum GDP is  [20412870]\n",
            "       population     capital       gdp\n",
            "China  1354051854      Bejing  20412870\n",
            "USA     326766748  Washington  20412870\n",
            "*****************\n",
            "['China' 'USA']\n"
          ],
          "name": "stdout"
        }
      ]
    },
    {
      "cell_type": "code",
      "metadata": {
        "id": "ncdonWlWyC8Y",
        "colab_type": "code",
        "colab": {}
      },
      "source": [
        ""
      ],
      "execution_count": 0,
      "outputs": []
    },
    {
      "cell_type": "code",
      "metadata": {
        "id": "u1LrXnHSjsmj",
        "colab_type": "code",
        "outputId": "6c9ad248-0627-49ae-ef81-12fb43aa05da",
        "colab": {
          "base_uri": "https://localhost:8080/",
          "height": 153
        }
      },
      "source": [
        "# Import modules\n",
        "import pandas as pd\n",
        "import numpy as np\n",
        "\n",
        "\n",
        "# Create a dataframe\n",
        "raw_data = {'first_name': ['Jason', 'Molly', np.nan, np.nan, np.nan], \n",
        "        'country': ['USA', 'USA', 'France', 'UK', 'UK'], \n",
        "        'age': [42, 52, 36, 24, 70]}\n",
        "df = pd.DataFrame(raw_data, columns = ['first_name', 'country', 'age'])\n",
        "print(df)\n",
        "\n",
        "\n",
        "# Create variable with TRUE if nationality is USA\n",
        "american = df['country'] == \"USA\"\n",
        "\n",
        "# Create variable with TRUE if age is greater than 50\n",
        "elderly = df['age'] > 50\n",
        "\n",
        "# Select all cases where nationality is USA and age is greater than 50\n",
        "print(df[american & elderly])"
      ],
      "execution_count": 53,
      "outputs": [
        {
          "output_type": "stream",
          "text": [
            "  first_name country  age\n",
            "0      Jason     USA   42\n",
            "1      Molly     USA   52\n",
            "2        NaN  France   36\n",
            "3        NaN      UK   24\n",
            "4        NaN      UK   70\n",
            "  first_name country  age\n",
            "1      Molly     USA   52\n"
          ],
          "name": "stdout"
        }
      ]
    },
    {
      "cell_type": "code",
      "metadata": {
        "id": "8UbD6GgB-Gox",
        "colab_type": "code",
        "outputId": "c3aaf793-172f-4716-ebb4-fe9c9432468a",
        "colab": {
          "base_uri": "https://localhost:8080/",
          "height": 1448
        }
      },
      "source": [
        "import pandas as pd\n",
        "\n",
        "\n",
        "#PandasDataForCSV.csv also is presenent in Google SpreadSheet.\n",
        "#df = pd.read_csv('PandasDataForCSV.csv', index_col='first_name')\n",
        "\n",
        "url = \"http://datasciencemastery.in/wp-content/uploads/2018/10/PandasDataForCSV.csv\"\n",
        "df = pd.read_csv(url, index_col='first_name')\n",
        "\n",
        "print ('\\n****** All DataFrame ****')\n",
        "print(df)\n",
        "\n",
        "#print all people with age >40\n",
        "\n",
        "# Print all people greater than age 40\n",
        "\n",
        "\n",
        "\n",
        "print ('\\n****** age>40 ****')\n",
        "x= df[df['age']>40]\n",
        "print (x)# prints all columns nationality  age  salary\n",
        "\n",
        "# Printing the index name\n",
        "print ('\\n******Index Name****')\n",
        "print(x.index.values)\n",
        "\n",
        "\n",
        "# Print all people age greater than age 40 and India\n",
        "print ('\\n******age greater than age 40 and India****')\n",
        "print (df[(df['age']>40) & (df['nationality']=='India')])\n",
        "\n",
        "\n",
        "# Print all people age greater than age 40 and India\n",
        "print ('\\n@@@******age greater than age 40 and India****')\n",
        "a = df['age']>40\n",
        "b = df['nationality']=='India'\n",
        "print (df[a & b])\n",
        "\n",
        "\n",
        "\n",
        "# Print maximum age\n",
        "print ('\\n******maximum age****')\n",
        "# get the row of max value\n",
        "x = df.loc[df['age'].idxmax()]\n",
        "print ('\\n******Pandas Type ****')\n",
        "print (type(x))   # This is pandas series\n",
        "print ('\\n******Pandas All Values ****')\n",
        "print (x)  # Print all values\n",
        "print ('\\n******Pandas Nationality ****')\n",
        "print (x.loc['nationality'])  # Print all nationality\n",
        "print ('\\n******Pandas Index or Name of the person with maximum age ****')\n",
        "print (df['age'].idxmax())\n",
        "\n",
        "\n",
        "print ('\\n******Sort DataFrame ****')\n",
        "x = df.sort_values(\"age\")\n",
        "print(x)\n",
        "\n",
        "\n",
        "print ('\\n******InPlace Sorting DataFrame ****')\n",
        "df.sort_values(\"age\",inplace=True)\n",
        "print(df)\n",
        "\n",
        "print ('\\n******Sort DataFrame in ascending values ****')\n",
        "x = df.sort_values(\"age\", ascending =False)\n",
        "print(x)\n",
        "\n",
        "\n",
        "print ('\\n******Pandas GroupBy ****')\n",
        "x = df.groupby(['nationality']).groups\n",
        "print(x)\n",
        "print ('\\n******Pandas GroupBy -2****')\n",
        "for name,group in df.groupby(['nationality']):\n",
        "    print (name, group)\n"
      ],
      "execution_count": 0,
      "outputs": [
        {
          "output_type": "stream",
          "text": [
            "\n",
            "****** All DataFrame ****\n",
            "           nationality  age  salary\n",
            "first_name                         \n",
            "vishal           India   45      40\n",
            "Hari                UK   30      30\n",
            "Rahul          America   42      20\n",
            "Rashmi           India   30      80\n",
            "\n",
            "****** age>40 ****\n",
            "           nationality  age  salary\n",
            "first_name                         \n",
            "vishal           India   45      40\n",
            "Rahul          America   42      20\n",
            "\n",
            "******Index Name****\n",
            "['vishal' 'Rahul']\n",
            "\n",
            "******age greater than age 40 and India****\n",
            "           nationality  age  salary\n",
            "first_name                         \n",
            "vishal           India   45      40\n",
            "\n",
            "@@@******age greater than age 40 and India****\n",
            "           nationality  age  salary\n",
            "first_name                         \n",
            "vishal           India   45      40\n",
            "\n",
            "******maximum age****\n",
            "\n",
            "******Pandas Type ****\n",
            "<class 'pandas.core.series.Series'>\n",
            "\n",
            "******Pandas All Values ****\n",
            "nationality    India\n",
            "age               45\n",
            "salary            40\n",
            "Name: vishal, dtype: object\n",
            "\n",
            "******Pandas Nationality ****\n",
            "India\n",
            "\n",
            "******Pandas Index or Name of the person with maximum age ****\n",
            "vishal\n",
            "\n",
            "******Sort DataFrame ****\n",
            "           nationality  age  salary\n",
            "first_name                         \n",
            "Hari                UK   30      30\n",
            "Rashmi           India   30      80\n",
            "Rahul          America   42      20\n",
            "vishal           India   45      40\n",
            "\n",
            "******InPlace Sorting DataFrame ****\n",
            "           nationality  age  salary\n",
            "first_name                         \n",
            "Hari                UK   30      30\n",
            "Rashmi           India   30      80\n",
            "Rahul          America   42      20\n",
            "vishal           India   45      40\n",
            "\n",
            "******Sort DataFrame in ascending values ****\n",
            "           nationality  age  salary\n",
            "first_name                         \n",
            "vishal           India   45      40\n",
            "Rahul          America   42      20\n",
            "Hari                UK   30      30\n",
            "Rashmi           India   30      80\n",
            "\n",
            "******Pandas GroupBy ****\n",
            "{'America': Index(['Rahul'], dtype='object', name='first_name'), 'India': Index(['Rashmi', 'vishal'], dtype='object', name='first_name'), 'UK': Index(['Hari'], dtype='object', name='first_name')}\n",
            "\n",
            "******Pandas GroupBy -2****\n",
            "America            nationality  age  salary\n",
            "first_name                         \n",
            "Rahul          America   42      20\n",
            "India            nationality  age  salary\n",
            "first_name                         \n",
            "Rashmi           India   30      80\n",
            "vishal           India   45      40\n",
            "UK            nationality  age  salary\n",
            "first_name                         \n",
            "Hari                UK   30      30\n"
          ],
          "name": "stdout"
        }
      ]
    },
    {
      "cell_type": "code",
      "metadata": {
        "id": "W_BoLf_ZVO8T",
        "colab_type": "code",
        "outputId": "7b3ab297-7c51-4230-ac70-387b451bcbf0",
        "colab": {
          "base_uri": "https://localhost:8080/",
          "height": 706
        }
      },
      "source": [
        "import matplotlib.pyplot as plt\n",
        "\n",
        "# *****Getting mean age grouped by country and plotting it\n",
        "x = df.groupby(['nationality'])['age'].mean()\n",
        "\n",
        "plt.bar(x.index,x)\n",
        "plt.xlabel('Country')\n",
        "plt.ylabel('Age')\n",
        "#plt.xticks(np.arange(12))\n",
        "plt.grid(True)\n",
        "plt.title('Age by nationality')\n",
        "\n",
        "print(x)\n",
        "\n",
        "\n",
        "\n",
        "\n",
        "print ('\\n******Pandas GroupBy ****')\n",
        "x = df.groupby(['nationality']).groups\n",
        "print(x)\n",
        "print ('\\n******Pandas GroupBy -2****')\n",
        "for name,group in df.groupby(['nationality']):\n",
        "    print (name) \n",
        "    print (group)\n"
      ],
      "execution_count": 0,
      "outputs": [
        {
          "output_type": "stream",
          "text": [
            "nationality\n",
            "America    42.0\n",
            "India      37.5\n",
            "UK         30.0\n",
            "Name: age, dtype: float64\n",
            "\n",
            "******Pandas GroupBy ****\n",
            "{'America': Index(['Rahul'], dtype='object', name='first_name'), 'India': Index(['Rashmi', 'vishal'], dtype='object', name='first_name'), 'UK': Index(['Hari'], dtype='object', name='first_name')}\n",
            "\n",
            "******Pandas GroupBy -2****\n",
            "America\n",
            "           nationality  age  salary\n",
            "first_name                         \n",
            "Rahul          America   42      20\n",
            "India\n",
            "           nationality  age  salary\n",
            "first_name                         \n",
            "Rashmi           India   30      80\n",
            "vishal           India   45      40\n",
            "UK\n",
            "           nationality  age  salary\n",
            "first_name                         \n",
            "Hari                UK   30      30\n"
          ],
          "name": "stdout"
        },
        {
          "output_type": "display_data",
          "data": {
            "image/png": "[encoded data removed]",
            "text/plain": [
              "<Figure size 432x288 with 1 Axes>"
            ]
          },
          "metadata": {
            "tags": []
          }
        }
      ]
    },
    {
      "cell_type": "code",
      "metadata": {
        "id": "YsdcyrKBjaaa",
        "colab_type": "code",
        "colab": {}
      },
      "source": [
        ""
      ],
      "execution_count": 0,
      "outputs": []
    },
    {
      "cell_type": "code",
      "metadata": {
        "id": "MMQkvyssNw9j",
        "colab_type": "code",
        "colab": {
          "base_uri": "https://localhost:8080/",
          "height": 68
        },
        "outputId": "99a6f7ec-8098-45f6-9c44-ff7735548d64"
      },
      "source": [
        "# Pandas DataFrame output as numpy values\n",
        "\n",
        "import pandas as pd\n",
        "\n",
        "country_df = pd.DataFrame({\n",
        "    'population':[1415045928,1354051854,326766748], \n",
        "    'capital':['Delhi','Bejing','Washington'],\n",
        "    'gdp':[2848231,14092514,20412870]\n",
        "    \n",
        "},\n",
        "index = ['India','China', 'USA'],\n",
        "\n",
        ")\n",
        "\n",
        "print (country_df.values) # output as numpy values\n"
      ],
      "execution_count": 54,
      "outputs": [
        {
          "output_type": "stream",
          "text": [
            "[[1415045928 'Delhi' 2848231]\n",
            " [1354051854 'Bejing' 14092514]\n",
            " [326766748 'Washington' 20412870]]\n"
          ],
          "name": "stdout"
        }
      ]
    },
    {
      "cell_type": "code",
      "metadata": {
        "id": "QisumxWbOgFt",
        "colab_type": "code",
        "colab": {
          "base_uri": "https://localhost:8080/",
          "height": 323
        },
        "outputId": "36ef92c2-125d-44f9-be5a-60306ed44ec2"
      },
      "source": [
        "# Pandas axis\n",
        "\n",
        "import pandas as pd\n",
        "\n",
        "df = pd.DataFrame({'A': [0, 1, 2], 'B': [3, 4, 5]})\n",
        "\n",
        "print (df,'\\n')\n",
        "\n",
        "print (df.sum(),'\\n')\n",
        "\n",
        "print (df.sum(axis=0),'\\n')\n",
        "print (df.sum(axis=1),'\\n')"
      ],
      "execution_count": 55,
      "outputs": [
        {
          "output_type": "stream",
          "text": [
            "   A  B\n",
            "0  0  3\n",
            "1  1  4\n",
            "2  2  5 \n",
            "\n",
            "A     3\n",
            "B    12\n",
            "dtype: int64 \n",
            "\n",
            "A     3\n",
            "B    12\n",
            "dtype: int64 \n",
            "\n",
            "0    3\n",
            "1    5\n",
            "2    7\n",
            "dtype: int64 \n",
            "\n"
          ],
          "name": "stdout"
        }
      ]
    },
    {
      "cell_type": "code",
      "metadata": {
        "id": "67WWnFuBRllz",
        "colab_type": "code",
        "colab": {
          "base_uri": "https://localhost:8080/",
          "height": 289
        },
        "outputId": "8a36e9a7-6c05-4e55-aa9e-902c655f5188"
      },
      "source": [
        "# Vector operations for data frames\n",
        "import pandas as pd\n",
        "\n",
        "#Examples of vectorized operations on DataFrames:\n",
        "# Adding DataFrames with the column names\n",
        "\n",
        "df1 = pd.DataFrame({'a': [1, 2, 3], 'b': [4, 5, 6], 'c': [7, 8, 9]})\n",
        "df2 = pd.DataFrame({'a': [10, 20, 30], 'b': [40, 50, 60], 'c': [70, 80, 90]})\n",
        "print (df1 + df2,'\\n')\n",
        "    \n",
        "# Adding DataFrames with overlapping column names \n",
        "df1 = pd.DataFrame({'a': [1, 2, 3], 'b': [4, 5, 6], 'c': [7, 8, 9]})\n",
        "df2 = pd.DataFrame({'d': [10, 20, 30], 'c': [40, 50, 60], 'b': [70, 80, 90]})\n",
        "print (df1 + df2,'\\n')\n",
        "\n",
        "# Adding DataFrames with overlapping row indexes\n",
        "df1 = pd.DataFrame({'a': [1, 2, 3], 'b': [4, 5, 6], 'c': [7, 8, 9]},\n",
        "                   index=['row1', 'row2', 'row3'])\n",
        "df2 = pd.DataFrame({'a': [10, 20, 30], 'b': [40, 50, 60], 'c': [70, 80, 90]},\n",
        "                   index=['row4', 'row3', 'row2'])\n",
        "print (df1 + df2,'\\n')"
      ],
      "execution_count": 56,
      "outputs": [
        {
          "output_type": "stream",
          "text": [
            "    a   b   c\n",
            "0  11  44  77\n",
            "1  22  55  88\n",
            "2  33  66  99 \n",
            "\n",
            "    a   b   c   d\n",
            "0 NaN  74  47 NaN\n",
            "1 NaN  85  58 NaN\n",
            "2 NaN  96  69 NaN \n",
            "\n",
            "         a     b     c\n",
            "row1   NaN   NaN   NaN\n",
            "row2  32.0  65.0  98.0\n",
            "row3  23.0  56.0  89.0\n",
            "row4   NaN   NaN   NaN \n",
            "\n"
          ],
          "name": "stdout"
        }
      ]
    },
    {
      "cell_type": "code",
      "metadata": {
        "id": "RFxzQZ5BSKzz",
        "colab_type": "code",
        "colab": {
          "base_uri": "https://localhost:8080/",
          "height": 85
        },
        "outputId": "31ec1b43-07ba-4c42-be19-0a57e7ddbe18"
      },
      "source": [
        "#applymap() applies a function to every single element in the entire dataframe.\n",
        "\n",
        "\n",
        "\n",
        "import pandas as pd\n",
        "\n",
        "\n",
        "# DataFrame applymap()\n",
        "\n",
        "df = pd.DataFrame({\n",
        "    'a': [1, 2, 3],\n",
        "    'b': [10, 20, 30],\n",
        "    'c': [5, 10, 15]\n",
        "})\n",
        "\n",
        "def add_one(x):\n",
        "    return x + 1\n",
        "\n",
        "print (df.applymap(add_one))"
      ],
      "execution_count": 57,
      "outputs": [
        {
          "output_type": "stream",
          "text": [
            "   a   b   c\n",
            "0  2  11   6\n",
            "1  3  21  11\n",
            "2  4  31  16\n"
          ],
          "name": "stdout"
        }
      ]
    },
    {
      "cell_type": "code",
      "metadata": {
        "id": "jV8pGHM0SuWz",
        "colab_type": "code",
        "colab": {
          "base_uri": "https://localhost:8080/",
          "height": 130
        },
        "outputId": "343b4722-6e6b-43b8-a638-a8c5a3958be0"
      },
      "source": [
        "import numpy as np\n",
        "import pandas as pd\n",
        "\n",
        "df = pd.DataFrame({\n",
        "    'a': [4, 5, 3, 1, 2],\n",
        "    'b': [20, 10, 40, 50, 30],\n",
        "    'c': [25, 20, 5, 15, 10]\n",
        "})\n",
        "\n",
        "# Change False to True for this block of code to see what it does\n",
        "\n",
        "# DataFrame apply() - use case 2\n",
        "if True:   \n",
        "    print df.apply(np.mean)\n",
        "    print df.apply(np.max)\n",
        "    \n",
        "def second_largest(df):\n",
        "    '''\n",
        "    Fill in this function to return the second-largest value of each \n",
        "    column of the input DataFrame.\n",
        "    '''\n",
        "    return None"
      ],
      "execution_count": 60,
      "outputs": [
        {
          "output_type": "error",
          "ename": "SyntaxError",
          "evalue": "ignored",
          "traceback": [
            "\u001b[0;36m  File \u001b[0;32m\"<ipython-input-60-3f99dfa63c4e>\"\u001b[0;36m, line \u001b[0;32m14\u001b[0m\n\u001b[0;31m    print df.apply(np.mean)\u001b[0m\n\u001b[0m           ^\u001b[0m\n\u001b[0;31mSyntaxError\u001b[0m\u001b[0;31m:\u001b[0m invalid syntax\n"
          ]
        }
      ]
    },
    {
      "cell_type": "code",
      "metadata": {
        "id": "cVsH1sOYS_8p",
        "colab_type": "code",
        "colab": {
          "base_uri": "https://localhost:8080/",
          "height": 306
        },
        "outputId": "1d7e8df4-7b77-49ec-d257-e50fa9a9d889"
      },
      "source": [
        "#Adding a DataFrame to a Series\n",
        "\n",
        "import pandas as pd\n",
        "\n",
        "\n",
        "# Adding a Series to a square DataFrame\n",
        "\n",
        "s = pd.Series([1, 2, 3, 4])\n",
        "\n",
        "print (s,'\\n')\n",
        "df = pd.DataFrame({\n",
        "    0: [10, 20, 30, 40],\n",
        "    1: [50, 60, 70, 80],\n",
        "    2: [90, 100, 110, 120],\n",
        "    3: [130, 140, 150, 160]\n",
        "})\n",
        "\n",
        "print (df)\n",
        "print ('') # Create a blank line between outputs\n",
        "print (df + s)\n"
      ],
      "execution_count": 61,
      "outputs": [
        {
          "output_type": "stream",
          "text": [
            "0    1\n",
            "1    2\n",
            "2    3\n",
            "3    4\n",
            "dtype: int64 \n",
            "\n",
            "    0   1    2    3\n",
            "0  10  50   90  130\n",
            "1  20  60  100  140\n",
            "2  30  70  110  150\n",
            "3  40  80  120  160\n",
            "\n",
            "    0   1    2    3\n",
            "0  11  52   93  134\n",
            "1  21  62  103  144\n",
            "2  31  72  113  154\n",
            "3  41  82  123  164\n"
          ],
          "name": "stdout"
        }
      ]
    },
    {
      "cell_type": "code",
      "metadata": {
        "id": "FFOGPCz_s0X_",
        "colab_type": "code",
        "colab": {
          "base_uri": "https://localhost:8080/",
          "height": 204
        },
        "outputId": "05fe0e4b-5d23-4e4e-acc8-cee0c13a2500"
      },
      "source": [
        "   \n",
        "# Adding a Series to a one-row DataFrame \n",
        "\n",
        "s = pd.Series([1, 2, 3, 4])\n",
        "print (s,'\\n')\n",
        "\n",
        "df = pd.DataFrame({0: [10], 1: [20], 2: [30], 3: [40]})\n",
        "\n",
        "print (df)\n",
        "print ('') # Create a blank line between outputs\n",
        "print (df + s)"
      ],
      "execution_count": 63,
      "outputs": [
        {
          "output_type": "stream",
          "text": [
            "0    1\n",
            "1    2\n",
            "2    3\n",
            "3    4\n",
            "dtype: int64 \n",
            "\n",
            "    0   1   2   3\n",
            "0  10  20  30  40\n",
            "\n",
            "    0   1   2   3\n",
            "0  11  22  33  44\n"
          ],
          "name": "stdout"
        }
      ]
    },
    {
      "cell_type": "code",
      "metadata": {
        "id": "3D4cha4Ztbn8",
        "colab_type": "code",
        "colab": {
          "base_uri": "https://localhost:8080/",
          "height": 204
        },
        "outputId": "84570c99-fd85-47aa-a7ec-f2358343e30d"
      },
      "source": [
        "# Adding a Series to a one-column DataFrame\n",
        "s = pd.Series([1, 2, 3, 4])\n",
        "df = pd.DataFrame({0: [10, 20, 30, 40]})\n",
        "\n",
        "print (df)\n",
        "print ('') # Create a blank line between outputs\n",
        "print (df + s)"
      ],
      "execution_count": 64,
      "outputs": [
        {
          "output_type": "stream",
          "text": [
            "    0\n",
            "0  10\n",
            "1  20\n",
            "2  30\n",
            "3  40\n",
            "\n",
            "    0   1   2   3\n",
            "0  11 NaN NaN NaN\n",
            "1  21 NaN NaN NaN\n",
            "2  31 NaN NaN NaN\n",
            "3  41 NaN NaN NaN\n"
          ],
          "name": "stdout"
        }
      ]
    },
    {
      "cell_type": "code",
      "metadata": {
        "id": "ikQi5aiht8aY",
        "colab_type": "code",
        "colab": {
          "base_uri": "https://localhost:8080/",
          "height": 204
        },
        "outputId": "c358e029-cd81-4782-dd92-ce84ae920904"
      },
      "source": [
        "# Adding when DataFrame column names match Series index\n",
        "s = pd.Series([1, 2, 3, 4], index=['a', 'b', 'c', 'd'])\n",
        "df = pd.DataFrame({\n",
        "    'a': [10, 20, 30, 40],\n",
        "    'b': [50, 60, 70, 80],\n",
        "    'c': [90, 100, 110, 120],\n",
        "    'd': [130, 140, 150, 160]\n",
        "})\n",
        "\n",
        "print (df)\n",
        "print ('') # Create a blank line between outputs\n",
        "print (df + s)"
      ],
      "execution_count": 65,
      "outputs": [
        {
          "output_type": "stream",
          "text": [
            "    a   b    c    d\n",
            "0  10  50   90  130\n",
            "1  20  60  100  140\n",
            "2  30  70  110  150\n",
            "3  40  80  120  160\n",
            "\n",
            "    a   b    c    d\n",
            "0  11  52   93  134\n",
            "1  21  62  103  144\n",
            "2  31  72  113  154\n",
            "3  41  82  123  164\n"
          ],
          "name": "stdout"
        }
      ]
    },
    {
      "cell_type": "code",
      "metadata": {
        "id": "6B9Wr04JuQQg",
        "colab_type": "code",
        "colab": {
          "base_uri": "https://localhost:8080/",
          "height": 204
        },
        "outputId": "d5fe50b7-3464-4e42-afd9-d40a738a3d40"
      },
      "source": [
        "# Adding when DataFrame column names don't match Series index\n",
        "\n",
        "s = pd.Series([1, 2, 3, 4])\n",
        "df = pd.DataFrame({\n",
        "    'a': [10, 20, 30, 40],\n",
        "    'b': [50, 60, 70, 80],\n",
        "    'c': [90, 100, 110, 120],\n",
        "    'd': [130, 140, 150, 160]\n",
        "})\n",
        "\n",
        "print (df)\n",
        "print ('') # Create a blank line between outputs\n",
        "print (df + s)"
      ],
      "execution_count": 66,
      "outputs": [
        {
          "output_type": "stream",
          "text": [
            "    a   b    c    d\n",
            "0  10  50   90  130\n",
            "1  20  60  100  140\n",
            "2  30  70  110  150\n",
            "3  40  80  120  160\n",
            "\n",
            "    a   b   c   d   0   1   2   3\n",
            "0 NaN NaN NaN NaN NaN NaN NaN NaN\n",
            "1 NaN NaN NaN NaN NaN NaN NaN NaN\n",
            "2 NaN NaN NaN NaN NaN NaN NaN NaN\n",
            "3 NaN NaN NaN NaN NaN NaN NaN NaN\n"
          ],
          "name": "stdout"
        }
      ]
    },
    {
      "cell_type": "code",
      "metadata": {
        "id": "OYYePiU2o8Ni",
        "colab_type": "code",
        "colab": {
          "base_uri": "https://localhost:8080/",
          "height": 323
        },
        "outputId": "6c9f404c-79ee-4673-b899-26bdb5ece240"
      },
      "source": [
        "# Reading from a CSV.\n",
        "\n",
        "import pandas as pd\n",
        "\n",
        "df = pd.read_csv('https://raw.githubusercontent.com/datasciencemastery/pandas-numpy-tutorial/master/data_sheet.csv',sep = ',', error_bad_lines=False)\n",
        "print(df,'\\n')\n",
        "\n",
        "\n",
        "print (df[df.itemcode=='MAG'],'\\n')\n",
        "\n",
        "\n",
        "print ((df.itemcode=='MAG')& (df.amount>100),'\\n')\n",
        "print (df[(df.itemcode=='MAG')& (df.amount>100)] )\n"
      ],
      "execution_count": 67,
      "outputs": [
        {
          "output_type": "stream",
          "text": [
            "  itemcode           date  amount\n",
            "0      MAG  01-April-2018    1000\n",
            "1      MAG  02-April-2018     100\n",
            "2      ALP  01-April-2018    1000\n",
            "3      ALP  02-April-2018    1000 \n",
            "\n",
            "  itemcode           date  amount\n",
            "0      MAG  01-April-2018    1000\n",
            "1      MAG  02-April-2018     100 \n",
            "\n",
            "0     True\n",
            "1    False\n",
            "2    False\n",
            "3    False\n",
            "dtype: bool \n",
            "\n",
            "  itemcode           date  amount\n",
            "0      MAG  01-April-2018    1000\n"
          ],
          "name": "stdout"
        }
      ]
    },
    {
      "cell_type": "code",
      "metadata": {
        "id": "N7Y3gmx9Wpcd",
        "colab_type": "code",
        "colab": {}
      },
      "source": [
        "from keras.datasets import boston_housing\n",
        "\n",
        "(train_data, train_targets), (test_data, test_targets) = boston_ho(a+)using.load_data()\n",
        "print (train_data.shape)\n",
        "print (test_data.shape)"
      ],
      "execution_count": 0,
      "outputs": []
    },
    {
      "cell_type": "code",
      "metadata": {
        "id": "22phqvIZpAlh",
        "colab_type": "code",
        "colab": {}
      },
      "source": [
        ""
      ],
      "execution_count": 0,
      "outputs": []
    },
    {
      "cell_type": "markdown",
      "metadata": {
        "id": "vGA2qvj4WSWm",
        "colab_type": "text"
      },
      "source": [
        "# Numpy Broadcasting\n",
        "\n",
        "https://jakevdp.github.io/PythonDataScienceHandbook/02.05-computation-on-arrays-broadcasting.html"
      ]
    },
    {
      "cell_type": "code",
      "metadata": {
        "id": "6K3bFGZNWWLg",
        "colab_type": "code",
        "outputId": "603805b8-b8dd-483e-ce6a-124db70b974e",
        "colab": {
          "base_uri": "https://localhost:8080/",
          "height": 35
        }
      },
      "source": [
        "import numpy as np\n",
        "\n",
        "a = np.array([0, 1, 2])\n",
        "b = np.array([5, 5, 5])\n",
        "\n",
        "print (a+b)"
      ],
      "execution_count": 0,
      "outputs": [
        {
          "output_type": "stream",
          "text": [
            "[5 6 7]\n"
          ],
          "name": "stdout"
        }
      ]
    },
    {
      "cell_type": "code",
      "metadata": {
        "id": "RHMqSYaDWhr9",
        "colab_type": "code",
        "outputId": "685f477f-4cc2-491e-92e4-795cf811e0f1",
        "colab": {
          "base_uri": "https://localhost:8080/",
          "height": 35
        }
      },
      "source": [
        "import numpy as np\n",
        "\n",
        "a = np.array([0, 1, 2])\n",
        "\n",
        "\n",
        "print (a+5)  # Think a+5 as above.. "
      ],
      "execution_count": 0,
      "outputs": [
        {
          "output_type": "stream",
          "text": [
            "[5 6 7]\n"
          ],
          "name": "stdout"
        }
      ]
    },
    {
      "cell_type": "code",
      "metadata": {
        "id": "plklhS4ZW31d",
        "colab_type": "code",
        "outputId": "622f8eaf-fe8e-4279-8b04-0162dd184e01",
        "colab": {
          "base_uri": "https://localhost:8080/",
          "height": 159
        }
      },
      "source": [
        "M = np.ones((3, 3))\n",
        "print(M)\n",
        "print('\\n')\n",
        "\n",
        "print(M + a)"
      ],
      "execution_count": 0,
      "outputs": [
        {
          "output_type": "stream",
          "text": [
            "[[1. 1. 1.]\n",
            " [1. 1. 1.]\n",
            " [1. 1. 1.]]\n",
            "\n",
            "\n",
            "[[1. 2. 3.]\n",
            " [1. 2. 3.]\n",
            " [1. 2. 3.]]\n"
          ],
          "name": "stdout"
        }
      ]
    },
    {
      "cell_type": "code",
      "metadata": {
        "id": "-L_NWSW2YRuA",
        "colab_type": "code",
        "outputId": "ff3fef39-6b64-4449-f1a5-147c996b207c",
        "colab": {
          "base_uri": "https://localhost:8080/",
          "height": 177
        }
      },
      "source": [
        "#https://docs.google.com/spreadsheets/d/1rtBUAu9m6kJ6fQNHdVt8X0CAQQ9-jkMf8N3E4aGt1YM/edit?usp=sharing\n",
        "\n",
        "\n",
        "M = np.ones((2, 3))\n",
        "print(M)\n",
        "\n",
        "print('\\n')\n",
        "\n",
        "a = np.arange(3)\n",
        "print(a)\n",
        "\n",
        "print('\\n')\n",
        "print(M + a)"
      ],
      "execution_count": 0,
      "outputs": [
        {
          "output_type": "stream",
          "text": [
            "[[1. 1. 1.]\n",
            " [1. 1. 1.]]\n",
            "\n",
            "\n",
            "[0 1 2]\n",
            "\n",
            "\n",
            "[[1. 2. 3.]\n",
            " [1. 2. 3.]]\n"
          ],
          "name": "stdout"
        }
      ]
    },
    {
      "cell_type": "code",
      "metadata": {
        "id": "4qIRkxlYaK-B",
        "colab_type": "code",
        "outputId": "27701ec3-b8da-48a1-9437-e33efc8fe710",
        "colab": {
          "base_uri": "https://localhost:8080/",
          "height": 177
        }
      },
      "source": [
        "a = np.arange(3).reshape((3, 1))\n",
        "print(a,'\\n')\n",
        "\n",
        "b = np.arange(3)\n",
        "print(b,'\\n')\n",
        "\n",
        "\n",
        "print(a + b)\n",
        "\n"
      ],
      "execution_count": 0,
      "outputs": [
        {
          "output_type": "stream",
          "text": [
            "[[0]\n",
            " [1]\n",
            " [2]] \n",
            "\n",
            "[0 1 2] \n",
            "\n",
            "[[0 1 2]\n",
            " [1 2 3]\n",
            " [2 3 4]]\n"
          ],
          "name": "stdout"
        }
      ]
    },
    {
      "cell_type": "code",
      "metadata": {
        "id": "S64G3lD_8LY4",
        "colab_type": "code",
        "colab": {}
      },
      "source": [
        "a =nparange(12).reshape(3,4)\n",
        "print(a)"
      ],
      "execution_count": 0,
      "outputs": []
    },
    {
      "cell_type": "code",
      "metadata": {
        "id": "pt53PMb08LVd",
        "colab_type": "code",
        "colab": {}
      },
      "source": [
        ""
      ],
      "execution_count": 0,
      "outputs": []
    },
    {
      "cell_type": "code",
      "metadata": {
        "id": "STFb8vY38LSq",
        "colab_type": "code",
        "colab": {}
      },
      "source": [
        ""
      ],
      "execution_count": 0,
      "outputs": []
    },
    {
      "cell_type": "code",
      "metadata": {
        "id": "ffCk-bcv8LQZ",
        "colab_type": "code",
        "colab": {}
      },
      "source": [
        ""
      ],
      "execution_count": 0,
      "outputs": []
    },
    {
      "cell_type": "code",
      "metadata": {
        "id": "rOXnJtcC8LLr",
        "colab_type": "code",
        "colab": {}
      },
      "source": [
        ""
      ],
      "execution_count": 0,
      "outputs": []
    }
  ],
  "metadata": {
    "colab": {
      "name": "Numpy  and Pandas Tutorial For Udemy.ipynb",
      "provenance": [],
      "collapsed_sections": []
    },
    "kernelspec": {
      "name": "python3",
      "display_name": "Python 3"
    }
  },
  "nbformat": 4,
  "nbformat_minor": 0
}